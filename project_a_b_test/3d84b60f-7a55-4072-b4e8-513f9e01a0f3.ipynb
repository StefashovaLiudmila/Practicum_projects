{
 "cells": [
  {
   "cell_type": "markdown",
   "id": "a7ec6ad4",
   "metadata": {},
   "source": [
    "<a class=\"anchor\" id=\"3-bullet\"></a>\n",
    "<div style=\"border:solid Chocolate 2px; padding: 40px\">\n",
    "\n",
    "<b>Людмила, приветствую!</b>\n",
    "\n",
    "Буду рада с тобой познакомиться. Меня зовут Евгения Маракова и я буду ревьюером твоего проекта. Если ты не против, то предлагаю общаться на \"ты\":) Если удобнее на \"вы\", то нет проблем, только скажи об этом.\n",
    "\n",
    "В процессе работы ты встретишь комментарии <font color='green'>зеленого</font>, <font color='gold'>желтого</font> и <font color='red'>красного</font> цветов. Что они значат, смотри ниже:\n",
    "    <br/>\n",
    "\n",
    "<div class=\"alert alert-success\">\n",
    "<h2> Ревьюер Евгения <a class=\"tocSkip\"> </h2>\n",
    "\n",
    "✅ Самый лучший комментарий. Обозначает, что все выполнено отлично.\n",
    "</div>\n",
    "\n",
    "<br/>\n",
    "\n",
    "<div class=\"alert alert-warning\">\n",
    "    <h2> Ревьюер Евгения <a class=\"tocSkip\"> </h2>\n",
    "    \n",
    "⚠️ Комментарий рекомендательного характера. Если внесешь коррективы - проект будет в разы лучше. \n",
    "</div>\n",
    "\n",
    "\n",
    "<br/>\n",
    "<div class=\"alert alert-block alert-danger\">\n",
    "<h2> Ревьюер Евгения <a class=\"tocSkip\"></h2>\n",
    "\n",
    "    \n",
    "❌ Данный комментарий обязателен к исправлению. Чтобы проект был принят - красные комментарии должны быть доработаны. \n",
    "</div>\n",
    "    \n",
    "Увидев мой комментарий, не удаляй его, он будет очень полезен в случае повторной проверки работы😊\n",
    "    \n",
    "Чтобы мы с тобой смогли вести диалог без проблем, я оставлю место для твоих вопросов и пояснений под моим комментарием:)\n",
    "    \n",
    "👇[Смотреть итоги](#1-bullet)\n",
    "    \n"
   ]
  },
  {
   "cell_type": "markdown",
   "id": "_E41Wr5fqnFT",
   "metadata": {
    "id": "_E41Wr5fqnFT"
   },
   "source": [
    "# Часть 1. Проверка гипотезы в Python и составление аналитической записки"
   ]
  },
  {
   "cell_type": "markdown",
   "id": "e06910dd",
   "metadata": {
    "id": "e06910dd"
   },
   "source": [
    "## Анализ различий в пользовательской активности между городами: Санкт-Петербург и Москва\n",
    "\n",
    "- Автор: Стефашова Людмила\n",
    "- Дата: 18.10.2025"
   ]
  },
  {
   "cell_type": "markdown",
   "id": "4149134c",
   "metadata": {
    "id": "4149134c"
   },
   "source": [
    "## Цели и задачи проекта\n",
    "\n",
    "*Основная цель проекта:* \n",
    "\n",
    "статистически проверить гипотезу о том, что пользователи из Санкт-Петербурга проводят больше времени за чтением и прослушиванием книг в приложении по сравнению с пользователями из Москвы.\n",
    "\n",
    "*Формулировка гипотезы:*\n",
    "\n",
    "пользователи из Санкт-Петербурга проводят в среднем больше времени за чтением и прослушиванием книг в приложении, чем пользователи из Москвы. Попробуем статистически это доказать, используя одностороннюю проверку гипотезы с двумя выборками:\n",
    "\n",
    "- Нулевая гипотеза $H_0: \\mu_{\\text{СПб}} \\leq \\mu_{\\text{Москва}}$ <br> Среднее время активности пользователей в Санкт-Петербурге не больше, чем в Москве.\n",
    "\n",
    "- Альтернативная гипотеза $H_1: \\mu_{\\text{СПб}} > \\mu_{\\text{Москва}}$ <br> Среднее время активности пользователей в Санкт-Петербурге больше, и это различие статистически значимо.\n",
    "\n",
    "*Задачи проекта:*\n",
    "\n",
    "- Провести предобработку данных, включая проверку на дубликаты идентификаторов пользователей\n",
    "- Выполнить сравнительный анализ размеров групп и их статистических характеристик\n",
    "- Провести статистическую проверку гипотезы с использованием t-теста\n",
    "- Сформулировать выводы на основе полученных результатов\n",
    "- Предложить возможные объяснения выявленных закономерностей"
   ]
  },
  {
   "cell_type": "markdown",
   "id": "728986ea",
   "metadata": {
    "id": "728986ea"
   },
   "source": [
    "## Описание данных\n",
    "\n",
    "Таблица с пользователями `yandex_knigi_data.csv`\n",
    "\n",
    "- `city` — город проживания пользователя.\n",
    "\n",
    "- `puid` — уникальный идентификатор пользователя.\n",
    "\n",
    "- `hours` — время активности пользователя в приложении.\n"
   ]
  },
  {
   "cell_type": "markdown",
   "id": "4fecaf95",
   "metadata": {
    "id": "4fecaf95"
   },
   "source": [
    "## Содержимое проекта\n",
    "\n",
    "- Загрузка и предобработка данных\n",
    "- Проверка на дубликаты\n",
    "- Описательный анализ\n",
    "- Проведение t-теста\n",
    "- Формулировка выводов\n",
    "- Подготовка итогового отчета\n"
   ]
  },
  {
   "cell_type": "markdown",
   "id": "651a31d4",
   "metadata": {},
   "source": [
    "<div class=\"alert alert-success\">\n",
    "<h2> Ревьюер Евгения <a class=\"tocSkip\"> </h2>\n",
    "\n",
    "✅ Здорово, что развернуто оформила вводную часть. Понятны - цель, задачи и структура проекта. Так будет легче каждому соореентироваться в работе.\n",
    "    \n",
    "---\n",
    "\n",
    "Комментарий студента: \n"
   ]
  },
  {
   "cell_type": "markdown",
   "id": "6f7d21d6",
   "metadata": {
    "id": "6f7d21d6"
   },
   "source": [
    "## 1. Загрузка данных и знакомство с ними\n",
    "\n",
    "Загружаем данные пользователей из Москвы и Санкт-Петербурга c их активностью (суммой часов чтения и прослушивания) из файла `/datasets/yandex_knigi_data.csv`."
   ]
  },
  {
   "cell_type": "code",
   "execution_count": 1,
   "id": "05faf34b",
   "metadata": {
    "id": "05faf34b"
   },
   "outputs": [],
   "source": [
    "# Импортируем необходимые библиотеки\n",
    "import pandas as pd\n",
    "import numpy as np\n",
    "from scipy.stats import mannwhitneyu\n",
    "import matplotlib.pyplot as plt\n",
    "import seaborn as sns\n",
    "from statsmodels.stats.power import NormalIndPower\n",
    "from statsmodels.stats.proportion import proportion_effectsize\n",
    "from statsmodels.stats.proportion import proportions_ztest"
   ]
  },
  {
   "cell_type": "markdown",
   "id": "30d67cbf",
   "metadata": {},
   "source": [
    "<div class=\"alert alert-success\">\n",
    "<h2> Ревьюер Евгения <a class=\"tocSkip\"> </h2>\n",
    "\n",
    "✅ Отлично, библиотеки импортировали. \n",
    "    \n",
    "---\n",
    "\n",
    "Комментарий студента: \n"
   ]
  },
  {
   "cell_type": "code",
   "execution_count": 2,
   "id": "ce87c1db",
   "metadata": {
    "id": "ce87c1db"
   },
   "outputs": [],
   "source": [
    "# Выгружаем данные в датафрейм\n",
    "df = pd.read_csv('/datasets/yandex_knigi_data.csv')"
   ]
  },
  {
   "cell_type": "code",
   "execution_count": 3,
   "id": "a213bcd3",
   "metadata": {},
   "outputs": [
    {
     "data": {
      "text/html": [
       "<div>\n",
       "<style scoped>\n",
       "    .dataframe tbody tr th:only-of-type {\n",
       "        vertical-align: middle;\n",
       "    }\n",
       "\n",
       "    .dataframe tbody tr th {\n",
       "        vertical-align: top;\n",
       "    }\n",
       "\n",
       "    .dataframe thead th {\n",
       "        text-align: right;\n",
       "    }\n",
       "</style>\n",
       "<table border=\"1\" class=\"dataframe\">\n",
       "  <thead>\n",
       "    <tr style=\"text-align: right;\">\n",
       "      <th></th>\n",
       "      <th>Unnamed: 0</th>\n",
       "      <th>city</th>\n",
       "      <th>puid</th>\n",
       "      <th>hours</th>\n",
       "    </tr>\n",
       "  </thead>\n",
       "  <tbody>\n",
       "    <tr>\n",
       "      <th>0</th>\n",
       "      <td>0</td>\n",
       "      <td>Москва</td>\n",
       "      <td>9668</td>\n",
       "      <td>26.167776</td>\n",
       "    </tr>\n",
       "    <tr>\n",
       "      <th>1</th>\n",
       "      <td>1</td>\n",
       "      <td>Москва</td>\n",
       "      <td>16598</td>\n",
       "      <td>82.111217</td>\n",
       "    </tr>\n",
       "    <tr>\n",
       "      <th>2</th>\n",
       "      <td>2</td>\n",
       "      <td>Москва</td>\n",
       "      <td>80401</td>\n",
       "      <td>4.656906</td>\n",
       "    </tr>\n",
       "    <tr>\n",
       "      <th>3</th>\n",
       "      <td>3</td>\n",
       "      <td>Москва</td>\n",
       "      <td>140205</td>\n",
       "      <td>1.840556</td>\n",
       "    </tr>\n",
       "    <tr>\n",
       "      <th>4</th>\n",
       "      <td>4</td>\n",
       "      <td>Москва</td>\n",
       "      <td>248755</td>\n",
       "      <td>151.326434</td>\n",
       "    </tr>\n",
       "  </tbody>\n",
       "</table>\n",
       "</div>"
      ],
      "text/plain": [
       "   Unnamed: 0    city    puid       hours\n",
       "0           0  Москва    9668   26.167776\n",
       "1           1  Москва   16598   82.111217\n",
       "2           2  Москва   80401    4.656906\n",
       "3           3  Москва  140205    1.840556\n",
       "4           4  Москва  248755  151.326434"
      ]
     },
     "execution_count": 3,
     "metadata": {},
     "output_type": "execute_result"
    }
   ],
   "source": [
    "# Выводим первые строки датафрейма на экран\n",
    "df.head()"
   ]
  },
  {
   "cell_type": "markdown",
   "id": "56f3089f",
   "metadata": {},
   "source": [
    "<div class=\"alert alert-warning\">\n",
    "    <h2> Ревьюер Евгения <a class=\"tocSkip\"> </h2>\n",
    "    \n",
    "⚠️ Рекомендую удалить столбец `Unnamed: 0`. Он полностью дублирует индексы.\n",
    "        \n",
    "---\n",
    "\n",
    "Комментарий студента:"
   ]
  },
  {
   "cell_type": "code",
   "execution_count": 4,
   "id": "f68a7419",
   "metadata": {
    "id": "f68a7419"
   },
   "outputs": [
    {
     "name": "stdout",
     "output_type": "stream",
     "text": [
      "<class 'pandas.core.frame.DataFrame'>\n",
      "RangeIndex: 8784 entries, 0 to 8783\n",
      "Data columns (total 4 columns):\n",
      " #   Column      Non-Null Count  Dtype  \n",
      "---  ------      --------------  -----  \n",
      " 0   Unnamed: 0  8784 non-null   int64  \n",
      " 1   city        8784 non-null   object \n",
      " 2   puid        8784 non-null   int64  \n",
      " 3   hours       8784 non-null   float64\n",
      "dtypes: float64(1), int64(2), object(1)\n",
      "memory usage: 274.6+ KB\n"
     ]
    }
   ],
   "source": [
    "# Выводим информацию о датафрейме\n",
    "df.info()"
   ]
  },
  {
   "cell_type": "markdown",
   "id": "d621e3d9",
   "metadata": {},
   "source": [
    "*Структура данных:*\n",
    "\n",
    "- Тип данных: pandas DataFrame\n",
    "- Общее количество записей: 8784\n",
    "- Состав датасета Количество столбцов: 4\n",
    "\n",
    "*Описание столбцов:*\n",
    "\n",
    "- `Unnamed:` 0 - целочисленные значения (int64), 8784 непустых записей\n",
    "- `city` - категориальный признак (object), 8784 непустых записей\n",
    "- `puid` - уникальный идентификатор пользователя (int64), 8784 непустых записей\n",
    "- `hours` - время активности пользователя в часах (float64), 8784 непустых записи\n",
    "\n",
    "*Качество данных*\n",
    "\n",
    "- В датасете отсутствуют пропущенные значения во всех столбцах\n",
    "- Все записи имеют корректные типы данных\n",
    "- Каждый столбец полностью заполнен данными"
   ]
  },
  {
   "cell_type": "markdown",
   "id": "39eeb430",
   "metadata": {},
   "source": [
    "<div class=\"alert alert-success\">\n",
    "<h2> Ревьюер Евгения <a class=\"tocSkip\"> </h2>\n",
    "\n",
    "✅ Согласна!\n",
    "    \n",
    "---\n",
    "\n",
    "Комментарий студента: "
   ]
  },
  {
   "cell_type": "markdown",
   "id": "d2bc9db1",
   "metadata": {},
   "source": [
    "Проверим данные на дубликаты"
   ]
  },
  {
   "cell_type": "code",
   "execution_count": 5,
   "id": "5200e947",
   "metadata": {},
   "outputs": [
    {
     "name": "stdout",
     "output_type": "stream",
     "text": [
      "Общее количество записей: 8784\n",
      "Количество уникальных puid: 8540\n",
      "Количество дубликатов puid: 244\n"
     ]
    }
   ],
   "source": [
    "# Считаем уникальные значеня в столбце puid\n",
    "unique_puid_count = df['puid'].nunique()\n",
    "total_records = df.shape[0]\n",
    "\n",
    "print(f\"Общее количество записей: {total_records}\")\n",
    "print(f\"Количество уникальных puid: {unique_puid_count}\")\n",
    "print(f\"Количество дубликатов puid: {total_records - unique_puid_count}\")"
   ]
  },
  {
   "cell_type": "code",
   "execution_count": 6,
   "id": "3a2fae23",
   "metadata": {},
   "outputs": [
    {
     "name": "stdout",
     "output_type": "stream",
     "text": [
      "Распределение дубликатов:\n",
      "2    244\n",
      "Name: puid, dtype: int64\n"
     ]
    }
   ],
   "source": [
    "# Считаем количество вхождений каждого puid\n",
    "puid_counts = df['puid'].value_counts()\n",
    "duplicate_analysis = puid_counts[puid_counts > 1]\n",
    "\n",
    "# Выводим статистику по дубликатам\n",
    "print(\"Распределение дубликатов:\")\n",
    "print(duplicate_analysis.value_counts())"
   ]
  },
  {
   "cell_type": "markdown",
   "id": "64ee5efc",
   "metadata": {},
   "source": [
    "Поскольку каждый пользователь должен быть представлен один раз в анализе (иначе мы исказим среднее время активности), необходимо оставить только одну запись на каждого пользователя.\n",
    "Удаляем дубликаты по `puid`, оставив первое вхождение."
   ]
  },
  {
   "cell_type": "code",
   "execution_count": 7,
   "id": "2f495f91",
   "metadata": {},
   "outputs": [
    {
     "name": "stdout",
     "output_type": "stream",
     "text": [
      "Записей после удаления дубликатов: 8540\n",
      "Уникальных puid: 8540\n"
     ]
    }
   ],
   "source": [
    "# Удаляем дубликаты по puid, оставляя первую запись\n",
    "df_clean = df.drop_duplicates(subset='puid', keep='first')\n",
    "\n",
    "# Проверяем результат\n",
    "print(f\"Записей после удаления дубликатов: {df_clean.shape[0]}\")\n",
    "print(f\"Уникальных puid: {df_clean['puid'].nunique()}\")"
   ]
  },
  {
   "cell_type": "markdown",
   "id": "dcef3a77",
   "metadata": {},
   "source": [
    "<div class=\"alert alert-success\">\n",
    "<h2> Ревьюер Евгения <a class=\"tocSkip\"> </h2>\n",
    "\n",
    "✅ Дубли по `puid` удалены верно.\n",
    "    \n",
    "---\n",
    "\n",
    "Комментарий студента:"
   ]
  },
  {
   "cell_type": "markdown",
   "id": "fc2f1260",
   "metadata": {},
   "source": [
    "Дубликаты удалены.\n",
    "\n",
    "Теперь сравним размеры групп (сколько пользователей из Москвы, сколько из СПб).\n",
    "\n",
    "Посчитаем основные статистики по времени активности `hours` в каждом городе."
   ]
  },
  {
   "cell_type": "code",
   "execution_count": 8,
   "id": "ed5b27a8",
   "metadata": {},
   "outputs": [
    {
     "name": "stdout",
     "output_type": "stream",
     "text": [
      "Размеры групп:\n",
      "Москва             6234\n",
      "Санкт-Петербург    2306\n",
      "Name: city, dtype: int64\n",
      "\n",
      "Статистика для Москвы:\n",
      "count    6234.000000\n",
      "mean       10.881092\n",
      "std        36.851683\n",
      "min         0.000018\n",
      "25%         0.059903\n",
      "50%         0.924498\n",
      "75%         5.939972\n",
      "max       857.209373\n",
      "Name: hours, dtype: float64\n",
      "Статистика для Санкт-Петербурга:\n",
      "count    2550.000000\n",
      "mean       11.592691\n",
      "std        39.704993\n",
      "min         0.000025\n",
      "25%         0.080002\n",
      "50%         0.984781\n",
      "75%         6.509072\n",
      "max       978.764775\n",
      "Name: hours, dtype: float64\n"
     ]
    }
   ],
   "source": [
    "# Считаем размеры групп\n",
    "group_sizes = df_clean['city'].value_counts()\n",
    "print(\"Размеры групп:\")\n",
    "print(group_sizes)\n",
    "print()\n",
    "# Выводим статистические данные\n",
    "moscow_stats = df[df['city'] == 'Москва']['hours'].describe()\n",
    "print(\"Статистика для Москвы:\")\n",
    "print(moscow_stats)\n",
    "spb_stats = df[df['city'] == 'Санкт-Петербург']['hours'].describe()\n",
    "print(\"Статистика для Санкт-Петербурга:\")\n",
    "print(spb_stats)"
   ]
  },
  {
   "cell_type": "code",
   "execution_count": 9,
   "id": "57948a88",
   "metadata": {},
   "outputs": [
    {
     "data": {
      "image/png": "[encoded data removed]",
      "text/plain": [
       "<Figure size 1008x504 with 1 Axes>"
      ]
     },
     "metadata": {
      "needs_background": "light"
     },
     "output_type": "display_data"
    }
   ],
   "source": [
    "# Строим ящик с усами\n",
    "plt.figure(figsize=(14, 7))\n",
    "sns.boxenplot(x='city', y='hours', data=df)\n",
    "plt.scatter(\n",
    "    x=[0, 1],\n",
    "    y=[\n",
    "        df[df['city'] == 'Москва']['hours'].mean(),\n",
    "        df[df['city'] == 'Санкт-Петербург']['hours'].mean()\n",
    "    ],\n",
    "    color='red',\n",
    "    marker='o',\n",
    "    s=100,\n",
    "    label='Среднее значение'\n",
    ")\n",
    "plt.title('Распределение времени активности с отметками среднего значения')\n",
    "plt.legend()\n",
    "plt.show()"
   ]
  },
  {
   "cell_type": "markdown",
   "id": "da50bb66",
   "metadata": {},
   "source": [
    "*Наблюдения:*\n",
    "\n",
    "Среднее время в СПб действительно выше, чем в Москве:\n",
    "- 11.26 > 10.88\n",
    "- разница = +0.38 часа (~23 минуты).\n",
    "\n",
    "Разброс очень большой:\n",
    "\n",
    "- Стандартное отклонение в 3–4 раза превышает среднее.\n",
    "- Медиана (~0.9 ч) гораздо ниже среднего, распределение сильно смещено вправо (многие пользователи почти не используют приложение, но есть \"тяжелые пользователи\", которые сильно увеличивают среднее).\n",
    "\n",
    "Группы неравные:\n",
    "\n",
    "- Москва: 6234\n",
    "- СПб: 2306\n",
    "\n",
    "Но обе выборки достаточно большие (>1000), поэтому центральная предельная теорема позволяет применять t-тест даже при ненормальности."
   ]
  },
  {
   "cell_type": "markdown",
   "id": "6a0c6c06",
   "metadata": {},
   "source": [
    "<div class=\"alert alert-success\">\n",
    "<h2> Ревьюер Евгения <a class=\"tocSkip\"> </h2>\n",
    "\n",
    "✅ Есть сравнение размера выборок и их статистик.\n",
    "    \n",
    "---\n",
    "\n",
    "Комментарий студента: \n"
   ]
  },
  {
   "cell_type": "markdown",
   "id": "956e82e2",
   "metadata": {
    "id": "956e82e2"
   },
   "source": [
    "## 2. Проверка гипотезы в Python\n",
    "\n",
    "Гипотеза звучит так: пользователи из Санкт-Петербурга проводят в среднем больше времени за чтением и прослушиванием книг в приложении, чем пользователи из Москвы. Попробуем статистически это доказать, используя одностороннюю проверку гипотезы с двумя выборками:\n",
    "\n",
    "- Нулевая гипотеза H₀: Средняя активность пользователей в часах в двух группах (Москва и Санкт-Петербург) не различается.\n",
    "\n",
    "- Альтернативная гипотеза H₁: Средняя активность пользователей в Санкт-Петербурге больше, и это различие статистически значимо."
   ]
  },
  {
   "cell_type": "markdown",
   "id": "5af0ab26",
   "metadata": {},
   "source": [
    "<div class=\"alert alert-success\">\n",
    "<h2> Ревьюер Евгения <a class=\"tocSkip\"> </h2>\n",
    "\n",
    "✅ Супер, гипотезы сформулированы!\n",
    "    \n",
    "---\n",
    "\n",
    "Комментарий студента:"
   ]
  },
  {
   "cell_type": "code",
   "execution_count": 10,
   "id": "67956690",
   "metadata": {
    "id": "67956690"
   },
   "outputs": [
    {
     "name": "stdout",
     "output_type": "stream",
     "text": [
      "p-value теста Манна — Уитни = 0.0891\n",
      "Нулевая гипотеза находит подтверждение! Статистически значимых различий в распределении времени активности между группами нет\n"
     ]
    }
   ],
   "source": [
    "# Устанавливаем уровень значимости\n",
    "alpha = 0.05\n",
    "\n",
    "# Создаем отдельные выборки\n",
    "spb_hours = df[df['city'] == 'Санкт-Петербург']['hours']\n",
    "mos_hours = df[df['city'] == 'Москва']['hours']\n",
    "\n",
    "# Применяем тест Манна-Уитни\n",
    "mw_test = mannwhitneyu(\n",
    "    spb_hours,\n",
    "    mos_hours,\n",
    "    alternative='greater'  # односторонний тест, так как по альтернативной гипотезе в СПб время больше\n",
    ")\n",
    "\n",
    "# Интерпретация результатов\n",
    "if mw_test.pvalue > alpha:\n",
    "    print(f'p-value теста Манна — Уитни = {round(mw_test.pvalue, 4)}')\n",
    "    print('Нулевая гипотеза находит подтверждение! Статистически значимых различий в распределении времени активности между группами нет')   \n",
    "else:\n",
    "    print(f'p-value теста Манна — Уитни = {round(mw_test.pvalue, 4)}')\n",
    "    print('Нулевая гипотеза находит подтверждение! Распределение времени активности в группе Санкт-Петербурга статистически значимо выше')\n",
    "    "
   ]
  },
  {
   "cell_type": "markdown",
   "id": "c6dac0c8",
   "metadata": {},
   "source": [
    "<div class=\"alert alert-success\">\n",
    "<h2> Ревьюер Евгения <a class=\"tocSkip\"> </h2>\n",
    "\n",
    "✅  Тест выполнен корректно.\n",
    "    \n",
    "---\n",
    "\n",
    "Комментарий студента: \n"
   ]
  },
  {
   "cell_type": "markdown",
   "id": "6953e84c",
   "metadata": {
    "id": "6953e84c"
   },
   "source": [
    "## 3. Аналитическая записка\n",
    "\n",
    "**Тема: Проверка гипотезы о различии среднего времени активности пользователей в приложении между Санкт-Петербургом и Москвой**\n",
    "\n",
    "**Цель исследования:**\n",
    "\n",
    "Проверка гипотезы о том, что пользователи из Санкт-Петербурга проводят больше времени в приложении по сравнению с пользователями из Москвы.\n",
    "\n",
    "**Методология исследования**\n",
    "\n",
    "*Статистический метод:*\n",
    "\n",
    "- Тест Манна-Уитни — непараметрический критерий для сравнения двух независимых выборок\n",
    "- Односторонний тест — проверка гипотезы о превышении среднего значения в группе Санкт-Петербурга\n",
    "- Уровень значимости: α = 0.05\n",
    "\n",
    "**Результаты анализа**\n",
    "\n",
    "*Исходные данные:*\n",
    "\n",
    "- Группа Москва: 6234 пользователя\n",
    "- Группа Санкт-Петербург: 2306 пользователей\n",
    "\n",
    "*Статистические показатели:*\n",
    "\n",
    "- Среднее время активности (Москва): 10.88 часов\n",
    "- Среднее время активности (Санкт-Петербург): 11.59 часов\n",
    "- p-value теста Манна-Уитни: 0.0891\n",
    "\n",
    "\n",
    "**Интерпретация результатов**\n",
    "\n",
    "*Статистический вывод:*\n",
    "\n",
    "- Полученное значение p-value (0.0891) > α (0.05)\n",
    "- Нулевая гипотеза о равенстве распределений не отвергается\n",
    "- Статистически значимых различий в распределении времени активности между группами не обнаружено\n",
    "\n",
    "**Вывод:**\n",
    "\n",
    "Нет статистически значимых доказательств того, что пользователи из Санкт-Петербурга проводят в среднем больше времени за чтением и прослушиванием книг в приложении по сравнению с пользователями из Москвы. Наблюдаемая разница в средних (11.26 ч против 10.88 ч) может быть обусловлена случайной вариацией. \n",
    "\n",
    "**Возможные объяснения результатов**\n",
    "\n",
    "*Особенности выборки:*\n",
    "\n",
    "- Наличие значительного количества пользователей с низкой активностью в обеих группах\n",
    "- Выбросы в данных могли повлиять на общую картину\n",
    "- Разный размер групп мог снизить мощность теста\n",
    "\n",
    "**Заключение**\n",
    "\n",
    "Гипотеза о том, что пользователи из Санкт-Петербурга проводят больше времени в приложении, не подтверждена статистически. Рекомендуется использовать более устойчивые метрики (например, медиану или долю активных пользователей) для дальнейшего анализа региональных различий."
   ]
  },
  {
   "cell_type": "markdown",
   "id": "6c0d708e",
   "metadata": {},
   "source": [
    "<div class=\"alert alert-success\">\n",
    "<h2> Ревьюер Евгения <a class=\"tocSkip\"> </h2>\n",
    "\n",
    "✅  Аналитическая записка по результатам тестирования сформирована, наполнение соответствует заданию.\n",
    "    \n",
    "---\n",
    "\n",
    "Комментарий студента:  "
   ]
  },
  {
   "cell_type": "markdown",
   "id": "hc1d6jVISegz",
   "metadata": {
    "id": "hc1d6jVISegz"
   },
   "source": [
    "----"
   ]
  },
  {
   "cell_type": "markdown",
   "id": "NqOUIYhbrIfC",
   "metadata": {
    "id": "NqOUIYhbrIfC"
   },
   "source": [
    "# Часть 2. Анализ результатов A/B-тестирования"
   ]
  },
  {
   "cell_type": "markdown",
   "id": "UNXAAyF5r9Rk",
   "metadata": {
    "id": "UNXAAyF5r9Rk"
   },
   "source": [
    "## 1. Цели исследования.\n",
    "\n"
   ]
  },
  {
   "cell_type": "markdown",
   "id": "kHx-51yES8bd",
   "metadata": {
    "id": "kHx-51yES8bd"
   },
   "source": [
    "К нам обратились представители интернет-магазина BitMotion Kit, в котором продаются геймифицированные товары для тех, кто ведёт здоровый образ жизни. У него есть своя целевая аудитория, даже появились хиты продаж: эспандер со счётчиком и напоминанием, так и подстольный велотренажёр с Bluetooth.\n",
    "\n",
    "В будущем компания хочет расширить ассортимент товаров. Но перед этим нужно решить одну проблему. Интерфейс онлайн-магазина слишком сложен для пользователей — об этом говорят отзывы.\n",
    "\n",
    "Чтобы привлечь новых клиентов и увеличить число продаж, владельцы магазина разработали новую версию сайта и протестировали его на части пользователей. По задумке, это решение доказуемо повысит количество пользователей, которые совершат покупку.\n",
    "\n",
    "\n",
    "**Цели исследования**\n",
    "\n",
    "*Основная цель:*\n",
    "\n",
    "- Оценить эффективность новой версии сайта интернет-магазина BitMotion Kit\n",
    "- Определить, приводит ли обновленный интерфейс к увеличению конверсии в покупку\n",
    "\n",
    "*Конкретные задачи:*\n",
    "\n",
    "- Проверить корректность проведения A/B-теста\n",
    "- Проанализировать поведение пользователей в контрольной и тестовой группах\n",
    "- Оценить статистическую значимость полученных результатов\n",
    "- Сформулировать рекомендации по внедрению изменений\n",
    "\n",
    "**Предпосылки проведения исследования**\n",
    "\n",
    "*Исходная проблема:*\n",
    "\n",
    "- Сложность интерфейса для пользователей\n",
    "- Необходимость привлечения новых клиентов\n",
    "- Потребность в увеличении продаж\n",
    "\n",
    "*Ожидаемый результат:*\n",
    "\n",
    "- Упрощение пользовательского опыта\n",
    "- Рост конверсии в покупку\n",
    "- Расширение целевой аудитории\n",
    "\n",
    "**Методология исследования**\n",
    "\n",
    "*Тип исследования:*\n",
    "\n",
    "- A/B-тест с разделением пользователей на две группы:\n",
    "    - Контрольная группа (текущая версия сайта)\n",
    "    - Тестовая группа (обновленная версия сайта)\n",
    "\n",
    "*Ключевая метрика:*\n",
    "\n",
    "- Конверсия в покупку\n",
    "\n",
    "**План анализа**\n",
    "\n",
    "*Этапы анализа:*\n",
    "\n",
    "- Проверка корректности распределения пользователей по группам\n",
    "- Анализ основных метрик в группах\n",
    "- Статистическая проверка гипотез\n",
    "- Оценка эффекта от изменений\n",
    "- Формулировка выводов и рекомендаций"
   ]
  },
  {
   "cell_type": "markdown",
   "id": "_CZryx2OsH-s",
   "metadata": {
    "id": "_CZryx2OsH-s"
   },
   "source": [
    "## 2. Загрузка данных, оценка их целостности.\n"
   ]
  },
  {
   "cell_type": "code",
   "execution_count": 11,
   "id": "DjFcJbeGsTIg",
   "metadata": {
    "id": "DjFcJbeGsTIg"
   },
   "outputs": [],
   "source": [
    "participants = pd.read_csv('https://code.s3.yandex.net/datasets/ab_test_participants.csv')\n",
    "events = pd.read_csv('https://code.s3.yandex.net/datasets/ab_test_events.zip',\n",
    "                     parse_dates=['event_dt'], low_memory=False)"
   ]
  },
  {
   "cell_type": "code",
   "execution_count": 12,
   "id": "9f39dded",
   "metadata": {
    "scrolled": true
   },
   "outputs": [
    {
     "name": "stdout",
     "output_type": "stream",
     "text": [
      "<class 'pandas.core.frame.DataFrame'>\n",
      "RangeIndex: 14525 entries, 0 to 14524\n",
      "Data columns (total 4 columns):\n",
      " #   Column   Non-Null Count  Dtype \n",
      "---  ------   --------------  ----- \n",
      " 0   user_id  14525 non-null  object\n",
      " 1   group    14525 non-null  object\n",
      " 2   ab_test  14525 non-null  object\n",
      " 3   device   14525 non-null  object\n",
      "dtypes: object(4)\n",
      "memory usage: 454.0+ KB\n"
     ]
    }
   ],
   "source": [
    "# Выводим инфомацию из таблицы ab_test_participants.csv\n",
    "participants.info()"
   ]
  },
  {
   "cell_type": "code",
   "execution_count": 13,
   "id": "74995886",
   "metadata": {},
   "outputs": [
    {
     "data": {
      "text/html": [
       "<div>\n",
       "<style scoped>\n",
       "    .dataframe tbody tr th:only-of-type {\n",
       "        vertical-align: middle;\n",
       "    }\n",
       "\n",
       "    .dataframe tbody tr th {\n",
       "        vertical-align: top;\n",
       "    }\n",
       "\n",
       "    .dataframe thead th {\n",
       "        text-align: right;\n",
       "    }\n",
       "</style>\n",
       "<table border=\"1\" class=\"dataframe\">\n",
       "  <thead>\n",
       "    <tr style=\"text-align: right;\">\n",
       "      <th></th>\n",
       "      <th>user_id</th>\n",
       "      <th>group</th>\n",
       "      <th>ab_test</th>\n",
       "      <th>device</th>\n",
       "    </tr>\n",
       "  </thead>\n",
       "  <tbody>\n",
       "    <tr>\n",
       "      <th>0</th>\n",
       "      <td>0002CE61FF2C4011</td>\n",
       "      <td>B</td>\n",
       "      <td>interface_eu_test</td>\n",
       "      <td>Mac</td>\n",
       "    </tr>\n",
       "    <tr>\n",
       "      <th>1</th>\n",
       "      <td>001064FEAAB631A1</td>\n",
       "      <td>B</td>\n",
       "      <td>recommender_system_test</td>\n",
       "      <td>Android</td>\n",
       "    </tr>\n",
       "    <tr>\n",
       "      <th>2</th>\n",
       "      <td>001064FEAAB631A1</td>\n",
       "      <td>A</td>\n",
       "      <td>interface_eu_test</td>\n",
       "      <td>Android</td>\n",
       "    </tr>\n",
       "    <tr>\n",
       "      <th>3</th>\n",
       "      <td>0010A1C096941592</td>\n",
       "      <td>A</td>\n",
       "      <td>recommender_system_test</td>\n",
       "      <td>Android</td>\n",
       "    </tr>\n",
       "    <tr>\n",
       "      <th>4</th>\n",
       "      <td>001E72F50D1C48FA</td>\n",
       "      <td>A</td>\n",
       "      <td>interface_eu_test</td>\n",
       "      <td>Mac</td>\n",
       "    </tr>\n",
       "  </tbody>\n",
       "</table>\n",
       "</div>"
      ],
      "text/plain": [
       "            user_id group                  ab_test   device\n",
       "0  0002CE61FF2C4011     B        interface_eu_test      Mac\n",
       "1  001064FEAAB631A1     B  recommender_system_test  Android\n",
       "2  001064FEAAB631A1     A        interface_eu_test  Android\n",
       "3  0010A1C096941592     A  recommender_system_test  Android\n",
       "4  001E72F50D1C48FA     A        interface_eu_test      Mac"
      ]
     },
     "execution_count": 13,
     "metadata": {},
     "output_type": "execute_result"
    }
   ],
   "source": [
    "# Выводим первые строки из таблицы ab_test_participants.csv\n",
    "participants.head()"
   ]
  },
  {
   "cell_type": "markdown",
   "id": "ad0ff714",
   "metadata": {},
   "source": [
    "Таблица `participants` - таблица участников тестов\n",
    "\n",
    "Всего записей 14 525\n",
    "\n",
    "*Столбцы:*\n",
    "- `user_id` — идентификатор пользователя\n",
    "- `group` — группа пользователя\n",
    "- `ab_tes` — название теста\n",
    "- `device` — устройство, с которого происходила регистрация\n",
    "\n",
    "*Качество данных*\n",
    "\n",
    "- В датасете отсутствуют пропущенные значения во всех столбцах\n",
    "- Все записи имеют корректные типы данных\n",
    "- Каждый столбец полностью заполнен данными"
   ]
  },
  {
   "cell_type": "code",
   "execution_count": 14,
   "id": "7209f9dd",
   "metadata": {},
   "outputs": [
    {
     "name": "stdout",
     "output_type": "stream",
     "text": [
      "Всего записей в participants: 14525\n",
      "Уникальных user_id: 13638\n",
      "Дубликатов user_id: 887\n"
     ]
    }
   ],
   "source": [
    "# Проверим наличие дубликатов\n",
    "# Считаем общее количество записей и количество уникальных user_id\n",
    "total_participants = participants.shape[0]\n",
    "unique_users = participants['user_id'].nunique()\n",
    "\n",
    "print(f\"Всего записей в participants: {total_participants}\")\n",
    "print(f\"Уникальных user_id: {unique_users}\")\n",
    "print(f\"Дубликатов user_id: {total_participants - unique_users}\")"
   ]
  },
  {
   "cell_type": "code",
   "execution_count": 15,
   "id": "ee910952",
   "metadata": {},
   "outputs": [
    {
     "data": {
      "text/plain": [
       "array(['interface_eu_test', 'recommender_system_test'], dtype=object)"
      ]
     },
     "execution_count": 15,
     "metadata": {},
     "output_type": "execute_result"
    }
   ],
   "source": [
    "# Выводим уникальные названия тестов\n",
    "participants['ab_test'].unique()"
   ]
  },
  {
   "cell_type": "code",
   "execution_count": 16,
   "id": "6fe79c1f",
   "metadata": {},
   "outputs": [
    {
     "name": "stdout",
     "output_type": "stream",
     "text": [
      "Записей в ab_test_participants: 10850\n",
      "Уникальных пользователей: 10850\n",
      "Дубликатов user_id в рамках одного теста: 0\n"
     ]
    }
   ],
   "source": [
    "# Оставляем только участников теста интерфейса\n",
    "ab_test_participants = participants[participants['ab_test'] == 'interface_eu_test']\n",
    "\n",
    "# Теперь проверяем дубликаты в рамках одного теста\n",
    "total = ab_test_participants.shape[0]\n",
    "unique_users = ab_test_participants['user_id'].nunique()\n",
    "duplicates = total - unique_users\n",
    "\n",
    "print(f\"Записей в ab_test_participants: {total}\")\n",
    "print(f\"Уникальных пользователей: {unique_users}\")\n",
    "print(f\"Дубликатов user_id в рамках одного теста: {duplicates}\")"
   ]
  },
  {
   "cell_type": "markdown",
   "id": "2a43a20f",
   "metadata": {},
   "source": [
    "<div class=\"alert alert-success\">\n",
    "<h2> Ревьюер Евгения <a class=\"tocSkip\"> </h2>\n",
    "\n",
    "✅ Выделены участники исследуемого теста. Молодец, что выносишь их в отдельную переменную - исходные данные понадобятся для проверки пересечений между тестами.\n",
    "    \n",
    "---\n",
    "\n",
    "Комментарий студента: \n"
   ]
  },
  {
   "cell_type": "markdown",
   "id": "e5af8acc",
   "metadata": {},
   "source": [
    "Мы обнаружили 887 пользователей, участвующих одновременно в:\n",
    "- interface_eu_test (тест интерфейса),\n",
    "- recommender_system_test (конкурирующий тест рекомендаций).\n",
    "\n",
    "Это составляет: ≈8.2%\n",
    "\n",
    "*Проблема:*\n",
    "\n",
    "- Такое пересечение нарушает изоляцию тестируемого эффекта.\n",
    "- Пользователи в пересечении подвергались двум изменениям одновременно:\n",
    "    - Новый интерфейс\n",
    "    - Новая система рекомендаций.\n",
    "- Это создаёт риск взаимодействия эффектов:\n",
    "    - Например, новый интерфейс может лучше работать только с новыми рекомендациями, и наоборот.\n",
    "    - В результате невозможно отделить, что именно повлияло на поведение пользователя.\n",
    "\n",
    "*Вывод:*\n",
    "\n",
    "- Наличие 887 (8.2%) пользователей в обоих тестах — существенное нарушение принципа изоляции в A/B-тестировании. \n",
    "\n",
    "*Рекомендации:*\n",
    "\n",
    "- Исключить 887 пересекающихся пользователей из анализа, чтобы оценить эффект интерфейса в чистом виде"
   ]
  },
  {
   "cell_type": "code",
   "execution_count": 17,
   "id": "c182809b",
   "metadata": {
    "scrolled": true
   },
   "outputs": [
    {
     "name": "stdout",
     "output_type": "stream",
     "text": [
      "<class 'pandas.core.frame.DataFrame'>\n",
      "RangeIndex: 787286 entries, 0 to 787285\n",
      "Data columns (total 4 columns):\n",
      " #   Column      Non-Null Count   Dtype         \n",
      "---  ------      --------------   -----         \n",
      " 0   user_id     787286 non-null  object        \n",
      " 1   event_dt    787286 non-null  datetime64[ns]\n",
      " 2   event_name  787286 non-null  object        \n",
      " 3   details     249022 non-null  object        \n",
      "dtypes: datetime64[ns](1), object(3)\n",
      "memory usage: 24.0+ MB\n"
     ]
    }
   ],
   "source": [
    "# Выводим информацию о таблице ab_test_events\n",
    "events.info()"
   ]
  },
  {
   "cell_type": "code",
   "execution_count": 18,
   "id": "864c1013",
   "metadata": {},
   "outputs": [
    {
     "data": {
      "text/html": [
       "<div>\n",
       "<style scoped>\n",
       "    .dataframe tbody tr th:only-of-type {\n",
       "        vertical-align: middle;\n",
       "    }\n",
       "\n",
       "    .dataframe tbody tr th {\n",
       "        vertical-align: top;\n",
       "    }\n",
       "\n",
       "    .dataframe thead th {\n",
       "        text-align: right;\n",
       "    }\n",
       "</style>\n",
       "<table border=\"1\" class=\"dataframe\">\n",
       "  <thead>\n",
       "    <tr style=\"text-align: right;\">\n",
       "      <th></th>\n",
       "      <th>user_id</th>\n",
       "      <th>event_dt</th>\n",
       "      <th>event_name</th>\n",
       "      <th>details</th>\n",
       "    </tr>\n",
       "  </thead>\n",
       "  <tbody>\n",
       "    <tr>\n",
       "      <th>0</th>\n",
       "      <td>GLOBAL</td>\n",
       "      <td>2020-12-01 00:00:00</td>\n",
       "      <td>End of Black Friday Ads Campaign</td>\n",
       "      <td>ZONE_CODE15</td>\n",
       "    </tr>\n",
       "    <tr>\n",
       "      <th>1</th>\n",
       "      <td>CCBE9E7E99F94A08</td>\n",
       "      <td>2020-12-01 00:00:11</td>\n",
       "      <td>registration</td>\n",
       "      <td>0.0</td>\n",
       "    </tr>\n",
       "    <tr>\n",
       "      <th>2</th>\n",
       "      <td>GLOBAL</td>\n",
       "      <td>2020-12-01 00:00:25</td>\n",
       "      <td>product_page</td>\n",
       "      <td>NaN</td>\n",
       "    </tr>\n",
       "    <tr>\n",
       "      <th>3</th>\n",
       "      <td>CCBE9E7E99F94A08</td>\n",
       "      <td>2020-12-01 00:00:33</td>\n",
       "      <td>login</td>\n",
       "      <td>NaN</td>\n",
       "    </tr>\n",
       "    <tr>\n",
       "      <th>4</th>\n",
       "      <td>CCBE9E7E99F94A08</td>\n",
       "      <td>2020-12-01 00:00:52</td>\n",
       "      <td>product_page</td>\n",
       "      <td>NaN</td>\n",
       "    </tr>\n",
       "  </tbody>\n",
       "</table>\n",
       "</div>"
      ],
      "text/plain": [
       "            user_id            event_dt                        event_name  \\\n",
       "0            GLOBAL 2020-12-01 00:00:00  End of Black Friday Ads Campaign   \n",
       "1  CCBE9E7E99F94A08 2020-12-01 00:00:11                      registration   \n",
       "2            GLOBAL 2020-12-01 00:00:25                      product_page   \n",
       "3  CCBE9E7E99F94A08 2020-12-01 00:00:33                             login   \n",
       "4  CCBE9E7E99F94A08 2020-12-01 00:00:52                      product_page   \n",
       "\n",
       "       details  \n",
       "0  ZONE_CODE15  \n",
       "1          0.0  \n",
       "2          NaN  \n",
       "3          NaN  \n",
       "4          NaN  "
      ]
     },
     "execution_count": 18,
     "metadata": {},
     "output_type": "execute_result"
    }
   ],
   "source": [
    "# Выводим первые строки из таблицы ab_test_events\n",
    "events.head()"
   ]
  },
  {
   "cell_type": "markdown",
   "id": "42186237",
   "metadata": {},
   "source": [
    "Таблица `events` - архив с одним csv-файлом, в котором собраны события 2020 года\n",
    "\n",
    "Всего 787 286 событий\n",
    "\n",
    "*Столбцы:*\n",
    "\n",
    "- `user_id` — идентификатор пользователя. Не содержит пропуски.\n",
    "- `event_dt` — дата и время события. Не содержит пропуски.\n",
    "- `event_name` — тип события. Не содержит пропуски.\n",
    "- `details` — дополнительные данные о событии. \n",
    "    - Заполнено только в 249 022 из 787 286 строк. Много пропусков, но это нормально. Разные типы событий требуют разной информации:\n",
    "        - События просмотра (product_page) не требуют дополнительных данных\n",
    "        - Действия авторизации (login) не содержат числовых значений\n",
    "        - Только определенные события (registration, purchase) имеют стоимость\n",
    "\n",
    "**Важное наблюдение:**\n",
    "\n",
    "в `user_id` есть значение \"GLOBAL\" — это не пользователь, а, скорее всего, системное событие (например, показ рекламы, общая аналитика). Такие записи нужно исключить из анализа поведения пользователей."
   ]
  },
  {
   "cell_type": "code",
   "execution_count": 19,
   "id": "fc7a0068",
   "metadata": {},
   "outputs": [],
   "source": [
    "# Оставляем только реальных пользователей\n",
    "events_clean = events[events['user_id'] != 'GLOBAL']"
   ]
  },
  {
   "cell_type": "code",
   "execution_count": 20,
   "id": "5a8651e9",
   "metadata": {},
   "outputs": [
    {
     "name": "stdout",
     "output_type": "stream",
     "text": [
      "<class 'pandas.core.frame.DataFrame'>\n",
      "Int64Index: 728791 entries, 1 to 787285\n",
      "Data columns (total 4 columns):\n",
      " #   Column      Non-Null Count   Dtype         \n",
      "---  ------      --------------   -----         \n",
      " 0   user_id     728791 non-null  object        \n",
      " 1   event_dt    728791 non-null  datetime64[ns]\n",
      " 2   event_name  728791 non-null  object        \n",
      " 3   details     233499 non-null  object        \n",
      "dtypes: datetime64[ns](1), object(3)\n",
      "memory usage: 27.8+ MB\n"
     ]
    }
   ],
   "source": [
    "# Выводим информацию по очищенной таблице\n",
    "events_clean.info()"
   ]
  },
  {
   "cell_type": "markdown",
   "id": "e22541b0",
   "metadata": {},
   "source": [
    "<div class=\"alert alert-success\">\n",
    "<h2> Ревьюер Евгения <a class=\"tocSkip\"> </h2>\n",
    "\n",
    "✅ Данные загружены. \n",
    "    \n",
    "Согласна, если пропуски можно оставить без изменений, то дубликаты обработать нужно. \n",
    "    \n",
    "---\n",
    "\n",
    "Комментарий студента:"
   ]
  },
  {
   "cell_type": "markdown",
   "id": "CnzA-efasUrk",
   "metadata": {
    "id": "CnzA-efasUrk"
   },
   "source": [
    "## 3. Оценка корректности проведения теста по таблице `ab_test_participants`:\n",
    "\n",
    "   3\\.1 Выделим пользователей, участвующих в тесте, и проверим:\n",
    "\n",
    "   - соответствие требованиям технического задания,\n",
    "\n",
    "   - равномерность распределения пользователей по группам теста,\n",
    "\n",
    "   - отсутствие пересечений с конкурирующим тестом (нет пользователей, участвующих одновременно в двух тестовых группах)."
   ]
  },
  {
   "cell_type": "markdown",
   "id": "a0ecca4d",
   "metadata": {},
   "source": [
    "Чтобы обеспечить чистоту анализа, исключаем всех пользователей, участвующих одновременно в двух тестах (interface_eu_test и recommender_system_test). Это гарантирует, что эффект новой версии интерфейса оценивается без влияния других изменений."
   ]
  },
  {
   "cell_type": "code",
   "execution_count": 21,
   "id": "8184227a",
   "metadata": {},
   "outputs": [
    {
     "name": "stdout",
     "output_type": "stream",
     "text": [
      "Пользователей, участвующих в обоих тестах: 887\n"
     ]
    }
   ],
   "source": [
    "# Определяем пользователей в целевом тесте (interface_eu_test)\n",
    "users_interface = set(participants[participants['ab_test'] == 'interface_eu_test']['user_id'])\n",
    "\n",
    "# Определяем пользователей в конкурирующем тесте (recommender_system_test)\n",
    "users_other = set(participants[participants['ab_test'] == 'recommender_system_test']['user_id'])\n",
    "\n",
    "# Находим пересечение\n",
    "users_in_both = users_interface & users_other\n",
    "print(f\"Пользователей, участвующих в обоих тестах: {len(users_in_both)}\")"
   ]
  },
  {
   "cell_type": "code",
   "execution_count": 22,
   "id": "1af67cb4",
   "metadata": {},
   "outputs": [
    {
     "name": "stdout",
     "output_type": "stream",
     "text": [
      "\n",
      "После очистки: 9963 пользователей\n",
      "Распределение по группам:\n",
      "B    5011\n",
      "A    4952\n",
      "Name: group, dtype: int64\n"
     ]
    }
   ],
   "source": [
    "# Берём всех участников целевого теста\n",
    "clean_interface = participants[participants['ab_test'] == 'interface_eu_test'].copy()\n",
    "\n",
    "# Исключаем пересекающихся пользователей\n",
    "clean_interface = clean_interface[~clean_interface['user_id'].isin(users_in_both)]\n",
    "\n",
    "# Выводим результат\n",
    "print(f\"\\nПосле очистки: {clean_interface.shape[0]} пользователей\")\n",
    "print(\"Распределение по группам:\")\n",
    "print(clean_interface['group'].value_counts())"
   ]
  },
  {
   "cell_type": "markdown",
   "id": "a53b552d",
   "metadata": {},
   "source": [
    "<div class=\"alert alert-success\">\n",
    "<h2> Ревьюер Евгения <a class=\"tocSkip\"> </h2>\n",
    "\n",
    "✅ Правильно, пользователи, на которых оказывалось влияние другим исследованием для нашего исследования могут быть непригодными.\n",
    "    \n",
    "---\n",
    "\n",
    "Комментарий студента: \n"
   ]
  },
  {
   "cell_type": "code",
   "execution_count": 23,
   "id": "4da2509b",
   "metadata": {},
   "outputs": [
    {
     "name": "stdout",
     "output_type": "stream",
     "text": [
      "<class 'pandas.core.frame.DataFrame'>\n",
      "Int64Index: 9963 entries, 0 to 14524\n",
      "Data columns (total 4 columns):\n",
      " #   Column   Non-Null Count  Dtype \n",
      "---  ------   --------------  ----- \n",
      " 0   user_id  9963 non-null   object\n",
      " 1   group    9963 non-null   object\n",
      " 2   ab_test  9963 non-null   object\n",
      " 3   device   9963 non-null   object\n",
      "dtypes: object(4)\n",
      "memory usage: 389.2+ KB\n"
     ]
    }
   ],
   "source": [
    "clean_interface.info()"
   ]
  },
  {
   "cell_type": "code",
   "execution_count": 24,
   "id": "6446fe90",
   "metadata": {},
   "outputs": [
    {
     "data": {
      "image/png": "[encoded data removed]",
      "text/plain": [
       "<Figure size 576x360 with 1 Axes>"
      ]
     },
     "metadata": {
      "needs_background": "light"
     },
     "output_type": "display_data"
    }
   ],
   "source": [
    "# Подготовка данных: подсчёт количества пользователей по группе и устройству\n",
    "device_counts = clean_interface.groupby(['group', 'device']).size().reset_index(name='count')\n",
    "\n",
    "# Построение столбчатой диаграммы\n",
    "plt.figure(figsize=(8, 5))\n",
    "sns.barplot(data=device_counts, x='device', y='count', hue='group', palette='Set2')\n",
    "\n",
    "# Оформление\n",
    "plt.title('Распределение пользователей по типу устройства в группах A/B', fontsize=13)\n",
    "plt.xlabel('Тип устройства', fontsize=11)\n",
    "plt.ylabel('Количество пользователей', fontsize=11)\n",
    "plt.legend(title='Группа')\n",
    "plt.xticks(rotation=0)\n",
    "plt.tight_layout()\n",
    "\n",
    "# Показать график\n",
    "plt.show()"
   ]
  },
  {
   "cell_type": "markdown",
   "id": "582882b1",
   "metadata": {},
   "source": [
    "В ходе анализа таблицы ab_test_participants была проведена проверка ключевых условий корректности A/B-теста, направленного на оценку влияния новой версии интерфейса на конверсию в покупку.\n",
    "\n",
    "**Соответствие требованиям технического задания**\n",
    "\n",
    "Из общей таблицы участников, содержащей данные по двум A/B-тестам (interface_eu_test и recommender_system_test), была корректно выделена подвыборка только по целевому тесту — interface_eu_test.\n",
    "\n",
    "**Равномерность распределения по группам**\n",
    "\n",
    "После очистки данных распределение участников по группам следующее:\n",
    "\n",
    "- Группа A (контроль): 4 952 пользователя (49.7%)\n",
    "- Группа B (тест): 5 011 пользователей (50.3%)\n",
    "\n",
    "Разница составляет всего 0.6 процентных пункта, что соответствует параметрам A/B-тестирования и гарантирует сопоставимость групп.\n",
    "\n",
    "**Отсутствие пересечений с конкурирующим тестом**\n",
    "\n",
    "Изначально нарушено, но устранено в ходе анализа.\n",
    "Было выявлено, что 887 пользователей (8.2% от исходной выборки) участвовали одновременно в двух тестах:\n",
    "\n",
    "- interface_eu_test (интерфейс)\n",
    "- recommender_system_test (рекомендательная система)\n",
    "\n",
    "Это создавало риск смешения эффектов, так как поведение таких пользователей могло быть обусловлено не только новым интерфейсом, но и изменениями в рекомендациях.\n",
    "\n",
    "Для обеспечения чистоты эксперимента все 887 пересекающихся пользователей были исключены из анализа.\n",
    "Итоговая выборка содержит 9 963 уникальных пользователя, каждый из которых участвовал только в одном тесте — interface_eu_test.\n",
    "\n",
    "**Баланс по категориальным признакам: распределение по типам устройств**\n",
    "\n",
    "Анализ показал, что распределение пользователей по типу устройства (device) между группами A и B статистически одинаково.\n",
    "График распределения по устройствам наглядно демонстрирует равномерность: столбцы для групп A и B в каждой категории устройств имеют почти одинаковую высоту, что говорит о корректной рандомизации. \n",
    "\n",
    "**Заключение**\n",
    "\n",
    "После проведения очистки данных A/B-тест interface_eu_test можно считать корректно организованным:\n",
    "\n",
    "- Выборка соответствует ТЗ\n",
    "- Группы сбалансированы\n",
    "- Отсутствуют пересечения с другими тестами\n",
    "- Распределение по ключевым характеристикам (тип устройства) — равномерное\n",
    "\n",
    "Таким образом, условия для объективной оценки эффекта новой версии интерфейса выполнены, и дальнейший анализ конверсии на этой выборке будет статистически обоснованным и достоверным."
   ]
  },
  {
   "cell_type": "markdown",
   "id": "b5e13155",
   "metadata": {},
   "source": [
    "<div class=\"alert alert-success\">\n",
    "<h2> Ревьюер Евгения <a class=\"tocSkip\"> </h2>\n",
    "\n",
    "✅  Супер, двигаемся дальше!\n",
    "    \n",
    "---\n",
    "\n",
    "Комментарий студента: "
   ]
  },
  {
   "cell_type": "markdown",
   "id": "GjulgSrlsqUU",
   "metadata": {
    "id": "GjulgSrlsqUU"
   },
   "source": [
    "3\\.2 Проанализируем данные о пользовательской активности по таблице `ab_test_events`:\n",
    "\n",
    "- оставим только события, связанные с участвующими в изучаемом тесте пользователями;"
   ]
  },
  {
   "cell_type": "code",
   "execution_count": 25,
   "id": "QMt0Ybo_swDK",
   "metadata": {
    "id": "QMt0Ybo_swDK"
   },
   "outputs": [
    {
     "name": "stdout",
     "output_type": "stream",
     "text": [
      "<class 'pandas.core.frame.DataFrame'>\n",
      "Int64Index: 73815 entries, 0 to 73814\n",
      "Data columns (total 7 columns):\n",
      " #   Column      Non-Null Count  Dtype         \n",
      "---  ------      --------------  -----         \n",
      " 0   user_id     73815 non-null  object        \n",
      " 1   group       73815 non-null  object        \n",
      " 2   ab_test     73815 non-null  object        \n",
      " 3   device      73815 non-null  object        \n",
      " 4   event_dt    73815 non-null  datetime64[ns]\n",
      " 5   event_name  73815 non-null  object        \n",
      " 6   details     19450 non-null  object        \n",
      "dtypes: datetime64[ns](1), object(6)\n",
      "memory usage: 4.5+ MB\n"
     ]
    }
   ],
   "source": [
    "# Объединяем датасеты по левому присоединению, чтобы получить всех пользоватетей из таблицы clean_interface\n",
    "events_filtered = clean_interface.merge(events_clean, on='user_id', how='left')\n",
    "events_filtered.info()"
   ]
  },
  {
   "cell_type": "markdown",
   "id": "324cf081",
   "metadata": {},
   "source": [
    "<div class=\"alert alert-success\">\n",
    "<h2> Ревьюер Евгения <a class=\"tocSkip\"> </h2>\n",
    "\n",
    "✅  Отобраны события, относящиеся только к нашему тесту.\n",
    "    \n",
    "---\n",
    "\n",
    "Комментарий студента: "
   ]
  },
  {
   "cell_type": "markdown",
   "id": "fBZ4DC2xswZJ",
   "metadata": {
    "id": "fBZ4DC2xswZJ"
   },
   "source": [
    "- определим горизонт анализа: рассчитаем время (лайфтайм) совершения события пользователем после регистрации и оставим только те события, которые были выполнены в течение первых семи дней с момента регистрации;"
   ]
  },
  {
   "cell_type": "code",
   "execution_count": 26,
   "id": "sES4-dKts0Yb",
   "metadata": {
    "id": "sES4-dKts0Yb"
   },
   "outputs": [
    {
     "name": "stdout",
     "output_type": "stream",
     "text": [
      "Найдено дат регистрации для 9963 пользователей\n"
     ]
    }
   ],
   "source": [
    "# Выделяем события регистрации\n",
    "registration_events = events_filtered[events_filtered['event_name'] == 'registration']\n",
    "\n",
    "# Создаём таблицу: user_id -> дата регистрации\n",
    "registration_dates = registration_events.groupby('user_id')['event_dt'].min().reset_index()\n",
    "registration_dates.rename(columns={'event_dt': 'registration_dt'}, inplace=True)\n",
    "\n",
    "print(f\"Найдено дат регистрации для {registration_dates.shape[0]} пользователей\")"
   ]
  },
  {
   "cell_type": "code",
   "execution_count": 27,
   "id": "4d97376a",
   "metadata": {},
   "outputs": [
    {
     "name": "stdout",
     "output_type": "stream",
     "text": [
      "Событий без даты регистрации: 0\n"
     ]
    }
   ],
   "source": [
    "# Объединяем все события с датой регистрации\n",
    "events_with_reg = events_filtered.merge(registration_dates, on='user_id', how='left')\n",
    "\n",
    "# Проверяем, у всех ли есть регистрация\n",
    "missing_reg = events_with_reg['registration_dt'].isna().sum()\n",
    "print(f\"Событий без даты регистрации: {missing_reg}\")"
   ]
  },
  {
   "cell_type": "code",
   "execution_count": 28,
   "id": "0caabe91",
   "metadata": {},
   "outputs": [
    {
     "name": "stdout",
     "output_type": "stream",
     "text": [
      "Событий в первые 7 дней: 63805\n",
      "Пользователей с событиями в первые 7 дней: 9963\n"
     ]
    }
   ],
   "source": [
    "# Рассчитываем разницу в днях\n",
    "events_with_reg['days_since_registration'] = (\n",
    "    (events_with_reg['event_dt'] - events_with_reg['registration_dt']).dt.total_seconds() / (60 * 60 * 24)\n",
    ")\n",
    "\n",
    "# Оставляем только события в первые 7 дней\n",
    "events_7d = events_with_reg[events_with_reg['days_since_registration'] <= 7]\n",
    "\n",
    "print(f\"Событий в первые 7 дней: {events_7d.shape[0]}\")\n",
    "print(f\"Пользователей с событиями в первые 7 дней: {events_7d['user_id'].nunique()}\")"
   ]
  },
  {
   "cell_type": "code",
   "execution_count": 29,
   "id": "41d41085",
   "metadata": {},
   "outputs": [
    {
     "name": "stdout",
     "output_type": "stream",
     "text": [
      "<class 'pandas.core.frame.DataFrame'>\n",
      "Int64Index: 63805 entries, 0 to 73814\n",
      "Data columns (total 9 columns):\n",
      " #   Column                   Non-Null Count  Dtype         \n",
      "---  ------                   --------------  -----         \n",
      " 0   user_id                  63805 non-null  object        \n",
      " 1   group                    63805 non-null  object        \n",
      " 2   ab_test                  63805 non-null  object        \n",
      " 3   device                   63805 non-null  object        \n",
      " 4   event_dt                 63805 non-null  datetime64[ns]\n",
      " 5   event_name               63805 non-null  object        \n",
      " 6   details                  16125 non-null  object        \n",
      " 7   registration_dt          63805 non-null  datetime64[ns]\n",
      " 8   days_since_registration  63805 non-null  float64       \n",
      "dtypes: datetime64[ns](2), float64(1), object(6)\n",
      "memory usage: 4.9+ MB\n"
     ]
    }
   ],
   "source": [
    "events_7d.info()"
   ]
  },
  {
   "cell_type": "markdown",
   "id": "5b377cf9",
   "metadata": {},
   "source": [
    "<div class=\"alert alert-success\">\n",
    "<h2> Ревьюер Евгения <a class=\"tocSkip\"> </h2>\n",
    "\n",
    "✅ События с регистрациями отобраны корректно.\n",
    "    \n",
    "Фильтрация событий по `lifetime` выполнена.\n",
    "    \n",
    "    \n",
    "---\n",
    "\n",
    "Комментарий студента:"
   ]
  },
  {
   "cell_type": "markdown",
   "id": "7cf1df48",
   "metadata": {},
   "source": [
    "Оценим достаточность выборки для получения статистически значимых результатов A/B-теста. \n",
    "\n",
    "Заданные параметры:\n",
    "\n",
    "- базовый показатель конверсии — 30%,\n",
    "\n",
    "- мощность теста — 80%,\n",
    "\n",
    "- достоверность теста — 95%."
   ]
  },
  {
   "cell_type": "code",
   "execution_count": 30,
   "id": "21f5c649",
   "metadata": {},
   "outputs": [
    {
     "name": "stdout",
     "output_type": "stream",
     "text": [
      "\n",
      "Минимальный размер выборки для каждой группы: 3762\n",
      "Общий минимальный размер выборки (A + B): 7524\n"
     ]
    }
   ],
   "source": [
    "# Зафиксируем значения для расчёта достаточности выборки\n",
    "baseline_conversion_rate = 0.30  # Базовая конверсия — 30%\n",
    "mde = 0.10                       # Минимально детектируемый эффект — 10% относительного роста\n",
    "alpha = 0.05                     # Уровень значимости — 5% (достоверность 95%)\n",
    "power = 0.80                     # Мощность — 80%\n",
    "\n",
    "# Рассчитаем ожидаемую конверсию в тестовой группе\n",
    "new_conversion_rate = baseline_conversion_rate * (1 + mde)\n",
    "\n",
    "# Вычислим размер эффекта\n",
    "effect_size = proportion_effectsize(baseline_conversion_rate, new_conversion_rate)\n",
    "\n",
    "# Инициализируем анализ мощности\n",
    "power_analysis = NormalIndPower()\n",
    "\n",
    "# Рассчитаем необходимый размер выборки **на одну группу**\n",
    "sample_size = power_analysis.solve_power(\n",
    "    effect_size=effect_size,\n",
    "    alpha=alpha,\n",
    "    power=power,\n",
    "    ratio=1.0  \n",
    ")\n",
    "\n",
    "# Общий размер выборки (обе группы)\n",
    "total_sample_size = sample_size * 2\n",
    "\n",
    "# Выведем результаты\n",
    "print(f\"\\nМинимальный размер выборки для каждой группы: {int(np.ceil(sample_size))}\")\n",
    "print(f\"Общий минимальный размер выборки (A + B): {int(np.ceil(total_sample_size))}\")"
   ]
  },
  {
   "cell_type": "code",
   "execution_count": 31,
   "id": "67573a62",
   "metadata": {},
   "outputs": [
    {
     "name": "stdout",
     "output_type": "stream",
     "text": [
      "\n",
      "Фактическая выборка: (4952, 5011)\n",
      "Выборка ДОСТАТОЧНА для обнаружения заданного эффекта.\n"
     ]
    }
   ],
   "source": [
    "# Сравним с фактической выборкой\n",
    "#Создадим выборку для каждой группы\n",
    "a_df=events_7d.loc[(events_7d['group']=='A')]['user_id']\n",
    "b_df=events_7d.loc[(events_7d['group']=='B')]['user_id']\n",
    "\n",
    "count_a=a_df.nunique() \n",
    "count_b=b_df.nunique()\n",
    "\n",
    "# Сравним с фактической выборкой\n",
    "your_total = count_a + count_b\n",
    "\n",
    "print(f\"\\nФактическая выборка: {count_a, count_b}\")\n",
    "\n",
    "if count_a >= sample_size and count_b >= sample_size:\n",
    "    print(\"Выборка ДОСТАТОЧНА для обнаружения заданного эффекта.\")\n",
    "else:\n",
    "    print(\"Выборка НЕДОСТАТОЧНА для обнаружения заданного эффекта.\")"
   ]
  },
  {
   "cell_type": "markdown",
   "id": "f9467edb",
   "metadata": {},
   "source": [
    "<div class=\"alert alert-success\">\n",
    "<h2> Ревьюер Евгения <a class=\"tocSkip\"> </h2>\n",
    "\n",
    "✅  Выполнена оценка достаточности пользователей в группе для проведения теста.\n",
    "    \n",
    "---\n",
    "\n",
    "Комментарий студента:"
   ]
  },
  {
   "cell_type": "markdown",
   "id": "SadyUDgZs0t3",
   "metadata": {
    "id": "SadyUDgZs0t3"
   },
   "source": [
    "- рассчитаем для каждой группы количество посетителей, сделавших покупку, и общее количество посетителей."
   ]
  },
  {
   "cell_type": "code",
   "execution_count": 32,
   "id": "7ph853Xks4sy",
   "metadata": {
    "id": "7ph853Xks4sy"
   },
   "outputs": [
    {
     "name": "stdout",
     "output_type": "stream",
     "text": [
      "Результат по группам:\n",
      "  group  total_visitors  purchasers  conversion_rate\n",
      "0     A            4952        1377           0.2781\n",
      "1     B            5011        1480           0.2954\n"
     ]
    }
   ],
   "source": [
    "# Нахйдем пользователей, совершивших покупку в первые 7 дней\n",
    "purchasers_7d = set(events_7d[events_7d['event_name'] == 'purchase']['user_id'])\n",
    "\n",
    "# Добавим флаг покупки к участникам теста\n",
    "clean_interface = clean_interface.copy()\n",
    "clean_interface['is_purchaser'] = clean_interface['user_id'].isin(purchasers_7d).astype(int)\n",
    "\n",
    "# Считаем данные для каждой группы\n",
    "result = clean_interface.groupby('group').agg(\n",
    "    total_visitors=('user_id', 'count'),\n",
    "    purchasers=('is_purchaser', 'sum')\n",
    ").reset_index()\n",
    "\n",
    "result['conversion_rate'] = (result['purchasers'] / result['total_visitors']).round(4)\n",
    "\n",
    "# Выводим результат\n",
    "print(\"Результат по группам:\")\n",
    "print(result)"
   ]
  },
  {
   "cell_type": "markdown",
   "id": "d6e17601",
   "metadata": {},
   "source": [
    "<div class=\"alert alert-success\">\n",
    "<h2> Ревьюер Евгения <a class=\"tocSkip\"> </h2>\n",
    "\n",
    "✅  Пользователи по группам и конверсия посчитаны. \n",
    "    \n",
    "---\n",
    "\n",
    "Комментарий студента: "
   ]
  },
  {
   "cell_type": "markdown",
   "id": "db5fa719",
   "metadata": {
    "id": "hHTHPkJYs8mE"
   },
   "source": [
    "****Предварительный общий вывод****\n",
    "\n",
    "В тестовой группе (B), где использовалась новая версия интерфейса, наблюдается более высокая конверсия в покупку по сравнению с контрольной группой (A):\n",
    "\n",
    "- Абсолютный прирост: +1.73 п.п.\n",
    "- Относительный прирост: ≈+6.2%\n",
    "\n",
    "Это означает, что новый интерфейс ассоциируется с увеличением доли пользователей, совершающих покупку в первые 7 дней после регистрации, на 6.2%.\n",
    "\n",
    "Хотя наблюдаемый эффект положительный, на данном этапе мы не можем утверждать, что он статистически значим. Разница может быть обусловлена случайностью.\n",
    "\n",
    "Для окончательного вывода необходимо:\n",
    "\n",
    "- Провести статистический тест\n",
    "- Рассчитать p-value\n",
    "- Сравнить с уровнем значимости (α = 0.05).\n",
    "\n",
    "Однако уже сейчас можно сказать:\n",
    "Направление эффекта совпадает с гипотезой — новая версия интерфейса не ухудшает, а потенциально улучшает конверсию. "
   ]
  },
  {
   "cell_type": "markdown",
   "id": "88ee678c",
   "metadata": {},
   "source": [
    "<div class=\"alert alert-success\">\n",
    "<h2> Ревьюер Евгения <a class=\"tocSkip\"> </h2>\n",
    "\n",
    "✅ Сделан вывод о приросте конверсии в тестовой группе.\n",
    "    \n",
    "---\n",
    "\n",
    "Комментарий студента: "
   ]
  },
  {
   "cell_type": "markdown",
   "id": "IKZ1Oo3Ws919",
   "metadata": {
    "id": "IKZ1Oo3Ws919"
   },
   "source": [
    "## 4. Оценка результатов A/B-тестирования:"
   ]
  },
  {
   "cell_type": "markdown",
   "id": "dcUdBSmvtC-E",
   "metadata": {
    "id": "dcUdBSmvtC-E"
   },
   "source": [
    "- Проверим изменение конверсии подходящим статистическим тестом, учитывая все этапы проверки гипотез.\n",
    "\n",
    "**Этапы проверки гипотезы**\n",
    "\n",
    "*Формулировка гипотез*\n",
    "\n",
    "`Нулевая гипотеза H₀`: Новая версия интерфейса не увеличивает конверсию.\n",
    " \n",
    "`Альтернативная гипотеза H₁`: Новая версия интерфейса увеличивает конверсию.\n",
    "\n",
    "Это односторонний тест, так как нас интересует только рост конверсии. \n",
    "\n",
    "*Выбор статистического теста*\n",
    "\n",
    "Для сравнения долей (конверсий) в двух независимых группах при больших выборках (n > 1000) используется:\n",
    "\n",
    "- Односторонний z-тест для долей\n",
    "\n",
    "*Предпосылки выполнены:*\n",
    "\n",
    "- Группы независимы\n",
    "- Выборки большие\n",
    "- Рандомизация корректна\n",
    "\n",
    "*Уровень значимости*\n",
    "\n",
    "- α = 0.05 (достоверность 95%)"
   ]
  },
  {
   "cell_type": "markdown",
   "id": "1f3459ba",
   "metadata": {},
   "source": [
    "<div class=\"alert alert-success\">\n",
    "<h2> Ревьюер Евгения <a class=\"tocSkip\"> </h2>\n",
    "\n",
    "✅ Гипотезы сформулированы верно.\n",
    "    \n",
    "---\n",
    "\n",
    "Комментарий студента: "
   ]
  },
  {
   "cell_type": "code",
   "execution_count": 33,
   "id": "l_KOziBQtL3t",
   "metadata": {
    "id": "l_KOziBQtL3t"
   },
   "outputs": [
    {
     "name": "stdout",
     "output_type": "stream",
     "text": [
      "pvalue=0.028262547212292124 < 0.05\n",
      "Нулевая гипотеза не находит подтверждения!\n",
      "Альтернативная гипотеза, о том что в группе В, вероятность покупки больше, согласно результатам статистического теста, находит подтверждение.\n"
     ]
    }
   ],
   "source": [
    "# Извлекаем данные в порядке: сначала A, потом B\n",
    "count = np.array([\n",
    "    result.loc[result['group'] == 'A', 'purchasers'].iloc[0],\n",
    "    result.loc[result['group'] == 'B', 'purchasers'].iloc[0]\n",
    "])\n",
    "\n",
    "nobs = np.array([\n",
    "    result.loc[result['group'] == 'A', 'total_visitors'].iloc[0],\n",
    "    result.loc[result['group'] == 'B', 'total_visitors'].iloc[0]\n",
    "])\n",
    "\n",
    "# Альтернатива: Доля в первой группе меньше, чем во второй → p_A < p_B\n",
    "z_stat, p_value = proportions_ztest(count=count, nobs=nobs, alternative='smaller')\n",
    "\n",
    "alpha = 0.05\n",
    "\n",
    "if p_value > alpha:\n",
    "    print(f'pvalue={p_value} > {alpha}')\n",
    "    print('Нулевая гипотеза находит подтверждение!')\n",
    "    print('Вероятность покупки, согласно результатам статистического теста, равна для групп А и В.')\n",
    "else:\n",
    "    print(f'pvalue={p_value} < {alpha}')\n",
    "    print('Нулевая гипотеза не находит подтверждения!')\n",
    "    print('Альтернативная гипотеза, о том что в группе В, вероятность покупки больше, согласно результатам статистического теста, находит подтверждение.')"
   ]
  },
  {
   "cell_type": "markdown",
   "id": "a0c56ab1",
   "metadata": {},
   "source": [
    "<div class=\"alert alert-success\">\n",
    "<h2> Ревьюер Евгения <a class=\"tocSkip\"> </h2>\n",
    "\n",
    "✅ Тест выполнен корректно.\n",
    "    \n",
    "---\n",
    "\n",
    "Комментарий студента: "
   ]
  },
  {
   "cell_type": "markdown",
   "id": "9jkyKOjgtGoc",
   "metadata": {
    "id": "9jkyKOjgtGoc"
   },
   "source": [
    "****Выводы по результатам A/B-тестирования****\n",
    "\n",
    "На основе проведённого статистического анализа можно сделать следующие выводы:\n",
    "\n",
    "**Результат статистически значим**\n",
    "\n",
    "- Полученное p-value = 0.0283\n",
    "- Уровень значимости α = 0.05\n",
    "- Поскольку p-value < α, мы отклоняем нулевую гипотезу.\n",
    "- Это означает, что наблюдаемое различие в конверсии между группами маловероятно возникло случайно. \n",
    "\n",
    "**Альтернативная гипотеза подтверждена**\n",
    "\n",
    "- Новая версия интерфейса (группа B) действительно приводит к более высокой вероятности покупки, чем текущая версия (группа A).\n",
    "- Эффект направлен в ожидаемую сторону: рост конверсии.\n",
    "\n",
    "**Достигнут ожидаемый эффект**\n",
    "\n",
    "- В контрольной группе (A) конверсия составила 27.81%,\n",
    "- В тестовой группе (B) конверсия составила 29.54%,\n",
    "- Абсолютный прирост: +1.73 п.п.,\n",
    "- Относительный прирост: +6.2%.\n",
    "- Такой прирост является практически значимым для бизнеса: при текущем трафике это может означать сотни дополнительных покупок в месяц. \n",
    "\n",
    "**Корректность теста подтверждена**\n",
    "\n",
    "- Группы были равномерно распределены (49.7% / 50.3%),\n",
    "- Отсутствуют пересечения с другими тестами (после очистки),\n",
    "- Распределение по устройствам сбалансировано,\n",
    "- Учтён 7-дневный горизонт анализа (стандартная практика для оценки early conversion).\n",
    "\n",
    "**Рекомендация**\n",
    "\n",
    "- Результаты A/B-теста успешны:\n",
    "    - Новая версия интерфейса статистически и практически значимо увеличивает конверсию в покупку.\n",
    "    - Рекомендуется внедрить изменения для 100% пользователей. \n",
    "\n",
    "**Заключение**\n",
    "\n",
    "A/B-тест достиг своей цели:\n",
    "- Гипотеза подтверждена,\n",
    "- Эффект значим и положителен,\n",
    "- ловия теста корректны."
   ]
  },
  {
   "cell_type": "markdown",
   "id": "npoPPSKytKvR",
   "metadata": {
    "id": "npoPPSKytKvR"
   },
   "source": [
    "<div class=\"alert alert-success\">\n",
    "<h2> Ревьюер Евгения <a class=\"tocSkip\"> </h2>\n",
    "\n",
    "✅ Отличный итоговый вывод с интерпретацией теста и рекомендациями.\n",
    "    \n",
    "---\n",
    "\n",
    "Комментарий студента: \n"
   ]
  },
  {
   "cell_type": "markdown",
   "id": "70abde7d",
   "metadata": {},
   "source": [
    "<a class=\"anchor\" id=\"1-bullet\"></a>\n",
    "<div style=\"border:solid Chocolate 2px; padding: 40px\">\n",
    "Люда, спасибо за работу. Шикарный проект получился. Молодец! \n",
    "   \n",
    "   \n",
    "    1. Рекомендую лишь:\n",
    "    - Unnamed: 0 сделать индексом.\n",
    "    \n",
    "[В начало](#3-bullet)"
   ]
  }
 ],
 "metadata": {
  "ExecuteTimeLog": [
   {
    "duration": 1358,
    "start_time": "2025-10-14T10:52:59.241Z"
   },
   {
    "duration": 72,
    "start_time": "2025-10-14T10:53:45.897Z"
   },
   {
    "duration": 11,
    "start_time": "2025-10-14T10:54:18.521Z"
   },
   {
    "duration": 11,
    "start_time": "2025-10-14T10:54:28.903Z"
   },
   {
    "duration": 49,
    "start_time": "2025-10-18T07:02:07.043Z"
   },
   {
    "duration": 1516,
    "start_time": "2025-10-18T07:02:25.524Z"
   },
   {
    "duration": 4,
    "start_time": "2025-10-18T07:02:31.914Z"
   },
   {
    "duration": 26,
    "start_time": "2025-10-18T07:02:34.634Z"
   },
   {
    "duration": 13,
    "start_time": "2025-10-18T07:02:36.598Z"
   },
   {
    "duration": 15,
    "start_time": "2025-10-18T07:02:39.726Z"
   },
   {
    "duration": 6,
    "start_time": "2025-10-18T07:07:24.643Z"
   },
   {
    "duration": 6,
    "start_time": "2025-10-18T07:08:59.514Z"
   },
   {
    "duration": 6,
    "start_time": "2025-10-18T07:10:15.675Z"
   },
   {
    "duration": 7,
    "start_time": "2025-10-18T07:10:41.545Z"
   },
   {
    "duration": 11,
    "start_time": "2025-10-18T07:11:05.597Z"
   },
   {
    "duration": 10,
    "start_time": "2025-10-18T07:11:46.690Z"
   },
   {
    "duration": 11,
    "start_time": "2025-10-18T07:12:14.361Z"
   },
   {
    "duration": 6,
    "start_time": "2025-10-18T07:14:22.755Z"
   },
   {
    "duration": 10,
    "start_time": "2025-10-18T07:14:40.387Z"
   },
   {
    "duration": 6,
    "start_time": "2025-10-18T07:14:58.465Z"
   },
   {
    "duration": 6,
    "start_time": "2025-10-18T07:22:04.850Z"
   },
   {
    "duration": 8,
    "start_time": "2025-10-18T07:22:15.807Z"
   },
   {
    "duration": 8,
    "start_time": "2025-10-18T07:22:36.877Z"
   },
   {
    "duration": 8,
    "start_time": "2025-10-18T07:39:41.813Z"
   },
   {
    "duration": 22,
    "start_time": "2025-10-18T07:49:43.629Z"
   },
   {
    "duration": 10,
    "start_time": "2025-10-18T08:10:34.743Z"
   },
   {
    "duration": 3,
    "start_time": "2025-10-18T08:20:14.699Z"
   },
   {
    "duration": 742,
    "start_time": "2025-10-18T08:22:02.514Z"
   },
   {
    "duration": 842,
    "start_time": "2025-10-18T08:22:13.702Z"
   },
   {
    "duration": 36,
    "start_time": "2025-10-18T08:22:14.546Z"
   },
   {
    "duration": 16,
    "start_time": "2025-10-18T08:22:14.584Z"
   },
   {
    "duration": 12,
    "start_time": "2025-10-18T08:22:14.602Z"
   },
   {
    "duration": 20,
    "start_time": "2025-10-18T08:22:14.616Z"
   },
   {
    "duration": 12,
    "start_time": "2025-10-18T08:22:14.637Z"
   },
   {
    "duration": 8,
    "start_time": "2025-10-18T08:22:14.650Z"
   },
   {
    "duration": 16,
    "start_time": "2025-10-18T08:22:14.660Z"
   },
   {
    "duration": 17,
    "start_time": "2025-10-18T08:22:14.678Z"
   },
   {
    "duration": 1639,
    "start_time": "2025-10-18T08:22:14.697Z"
   },
   {
    "duration": 20,
    "start_time": "2025-10-18T08:25:39.926Z"
   },
   {
    "duration": 98,
    "start_time": "2025-10-18T08:26:39.809Z"
   },
   {
    "duration": 1223,
    "start_time": "2025-10-18T08:26:46.197Z"
   },
   {
    "duration": 26,
    "start_time": "2025-10-18T08:26:47.422Z"
   },
   {
    "duration": 12,
    "start_time": "2025-10-18T08:26:47.450Z"
   },
   {
    "duration": 12,
    "start_time": "2025-10-18T08:26:47.465Z"
   },
   {
    "duration": 6,
    "start_time": "2025-10-18T08:26:47.479Z"
   },
   {
    "duration": 8,
    "start_time": "2025-10-18T08:26:47.487Z"
   },
   {
    "duration": 8,
    "start_time": "2025-10-18T08:26:47.497Z"
   },
   {
    "duration": 59,
    "start_time": "2025-10-18T08:26:47.506Z"
   },
   {
    "duration": 4677,
    "start_time": "2025-10-18T08:26:47.567Z"
   },
   {
    "duration": 21,
    "start_time": "2025-10-18T08:26:52.247Z"
   },
   {
    "duration": 1631,
    "start_time": "2025-10-18T08:26:52.270Z"
   },
   {
    "duration": 4775,
    "start_time": "2025-10-18T08:30:07.343Z"
   },
   {
    "duration": 730,
    "start_time": "2025-10-18T08:31:33.129Z"
   },
   {
    "duration": 752,
    "start_time": "2025-10-18T08:32:15.220Z"
   },
   {
    "duration": 340,
    "start_time": "2025-10-18T08:32:52.516Z"
   },
   {
    "duration": 4,
    "start_time": "2025-10-18T08:40:05.011Z"
   },
   {
    "duration": 11,
    "start_time": "2025-10-18T08:40:09.663Z"
   },
   {
    "duration": 112,
    "start_time": "2025-10-18T08:41:35.105Z"
   },
   {
    "duration": 1385,
    "start_time": "2025-10-18T08:42:16.526Z"
   },
   {
    "duration": 39,
    "start_time": "2025-10-18T08:42:17.913Z"
   },
   {
    "duration": 15,
    "start_time": "2025-10-18T08:42:17.954Z"
   },
   {
    "duration": 16,
    "start_time": "2025-10-18T08:42:17.971Z"
   },
   {
    "duration": 7,
    "start_time": "2025-10-18T08:42:17.989Z"
   },
   {
    "duration": 15,
    "start_time": "2025-10-18T08:42:17.997Z"
   },
   {
    "duration": 8,
    "start_time": "2025-10-18T08:42:18.014Z"
   },
   {
    "duration": 43,
    "start_time": "2025-10-18T08:42:18.024Z"
   },
   {
    "duration": 336,
    "start_time": "2025-10-18T08:42:18.069Z"
   },
   {
    "duration": 121,
    "start_time": "2025-10-18T08:42:18.408Z"
   },
   {
    "duration": 0,
    "start_time": "2025-10-18T08:42:18.531Z"
   },
   {
    "duration": 1,
    "start_time": "2025-10-18T08:42:18.532Z"
   },
   {
    "duration": 750,
    "start_time": "2025-10-18T08:42:59.551Z"
   },
   {
    "duration": 18,
    "start_time": "2025-10-18T08:51:43.813Z"
   },
   {
    "duration": 17,
    "start_time": "2025-10-18T09:00:05.526Z"
   },
   {
    "duration": 1667,
    "start_time": "2025-10-18T09:18:53.764Z"
   },
   {
    "duration": 14,
    "start_time": "2025-10-18T09:19:23.985Z"
   },
   {
    "duration": 121,
    "start_time": "2025-10-18T09:19:41.761Z"
   },
   {
    "duration": 39,
    "start_time": "2025-10-18T09:26:35.865Z"
   },
   {
    "duration": 11,
    "start_time": "2025-10-18T09:28:00.758Z"
   },
   {
    "duration": 69,
    "start_time": "2025-10-18T09:28:49.994Z"
   },
   {
    "duration": 130,
    "start_time": "2025-10-18T09:37:08.183Z"
   },
   {
    "duration": 95,
    "start_time": "2025-10-18T09:49:09.403Z"
   },
   {
    "duration": 119,
    "start_time": "2025-10-18T09:49:26.291Z"
   },
   {
    "duration": 9,
    "start_time": "2025-10-18T09:54:02.408Z"
   },
   {
    "duration": 292,
    "start_time": "2025-10-18T09:55:48.710Z"
   },
   {
    "duration": 5,
    "start_time": "2025-10-18T09:58:29.252Z"
   },
   {
    "duration": 11,
    "start_time": "2025-10-18T10:02:46.612Z"
   },
   {
    "duration": 10,
    "start_time": "2025-10-18T10:11:08.855Z"
   },
   {
    "duration": 13,
    "start_time": "2025-10-18T10:11:20.756Z"
   },
   {
    "duration": 6,
    "start_time": "2025-10-18T10:12:20.321Z"
   },
   {
    "duration": 10,
    "start_time": "2025-10-18T10:14:06.929Z"
   },
   {
    "duration": 18,
    "start_time": "2025-10-18T10:35:34.994Z"
   },
   {
    "duration": 13,
    "start_time": "2025-10-18T10:37:28.493Z"
   },
   {
    "duration": 16,
    "start_time": "2025-10-18T10:37:45.805Z"
   },
   {
    "duration": 22,
    "start_time": "2025-10-18T11:04:05.909Z"
   },
   {
    "duration": 129,
    "start_time": "2025-10-18T11:19:41.154Z"
   },
   {
    "duration": 115,
    "start_time": "2025-10-18T11:22:53.039Z"
   },
   {
    "duration": 11,
    "start_time": "2025-10-18T11:25:42.417Z"
   },
   {
    "duration": 11,
    "start_time": "2025-10-18T11:26:09.165Z"
   },
   {
    "duration": 93,
    "start_time": "2025-10-18T11:34:34.191Z"
   },
   {
    "duration": 26,
    "start_time": "2025-10-18T11:36:39.686Z"
   },
   {
    "duration": 43,
    "start_time": "2025-10-18T11:37:17.763Z"
   },
   {
    "duration": 34,
    "start_time": "2025-10-18T11:37:38.258Z"
   },
   {
    "duration": 347,
    "start_time": "2025-10-18T11:50:22.972Z"
   },
   {
    "duration": 306,
    "start_time": "2025-10-18T11:51:10.441Z"
   },
   {
    "duration": 1284,
    "start_time": "2025-10-18T12:06:00.217Z"
   },
   {
    "duration": 26,
    "start_time": "2025-10-18T12:06:01.503Z"
   },
   {
    "duration": 13,
    "start_time": "2025-10-18T12:06:01.531Z"
   },
   {
    "duration": 102,
    "start_time": "2025-10-18T12:06:01.545Z"
   },
   {
    "duration": 5,
    "start_time": "2025-10-18T12:06:01.649Z"
   },
   {
    "duration": 13,
    "start_time": "2025-10-18T12:06:01.655Z"
   },
   {
    "duration": 7,
    "start_time": "2025-10-18T12:06:01.670Z"
   },
   {
    "duration": 20,
    "start_time": "2025-10-18T12:06:01.678Z"
   },
   {
    "duration": 374,
    "start_time": "2025-10-18T12:06:01.699Z"
   },
   {
    "duration": 19,
    "start_time": "2025-10-18T12:06:02.075Z"
   },
   {
    "duration": 1679,
    "start_time": "2025-10-18T12:06:02.096Z"
   },
   {
    "duration": 20,
    "start_time": "2025-10-18T12:06:03.777Z"
   },
   {
    "duration": 10,
    "start_time": "2025-10-18T12:06:03.800Z"
   },
   {
    "duration": 5,
    "start_time": "2025-10-18T12:06:03.814Z"
   },
   {
    "duration": 144,
    "start_time": "2025-10-18T12:06:03.821Z"
   },
   {
    "duration": 0,
    "start_time": "2025-10-18T12:06:03.968Z"
   },
   {
    "duration": 0,
    "start_time": "2025-10-18T12:06:03.970Z"
   },
   {
    "duration": 0,
    "start_time": "2025-10-18T12:06:03.971Z"
   },
   {
    "duration": 0,
    "start_time": "2025-10-18T12:06:03.973Z"
   },
   {
    "duration": 0,
    "start_time": "2025-10-18T12:06:03.974Z"
   },
   {
    "duration": 0,
    "start_time": "2025-10-18T12:06:03.976Z"
   },
   {
    "duration": 0,
    "start_time": "2025-10-18T12:06:03.978Z"
   },
   {
    "duration": 0,
    "start_time": "2025-10-18T12:06:03.979Z"
   },
   {
    "duration": 0,
    "start_time": "2025-10-18T12:06:03.981Z"
   },
   {
    "duration": 0,
    "start_time": "2025-10-18T12:06:03.983Z"
   },
   {
    "duration": 15,
    "start_time": "2025-10-18T12:08:15.735Z"
   },
   {
    "duration": 130,
    "start_time": "2025-10-18T12:08:21.285Z"
   },
   {
    "duration": 100,
    "start_time": "2025-10-18T12:08:24.337Z"
   },
   {
    "duration": 113,
    "start_time": "2025-10-18T12:08:26.570Z"
   },
   {
    "duration": 12,
    "start_time": "2025-10-18T12:08:31.093Z"
   },
   {
    "duration": 13,
    "start_time": "2025-10-18T12:08:32.936Z"
   },
   {
    "duration": 346,
    "start_time": "2025-10-18T12:08:35.296Z"
   },
   {
    "duration": 92,
    "start_time": "2025-10-18T12:08:38.919Z"
   },
   {
    "duration": 26,
    "start_time": "2025-10-18T12:08:41.462Z"
   },
   {
    "duration": 29,
    "start_time": "2025-10-18T12:08:44.580Z"
   },
   {
    "duration": 34,
    "start_time": "2025-10-18T12:08:52.510Z"
   },
   {
    "duration": 25,
    "start_time": "2025-10-18T12:09:30.827Z"
   },
   {
    "duration": 1409,
    "start_time": "2025-10-18T12:11:35.364Z"
   },
   {
    "duration": 26,
    "start_time": "2025-10-18T12:11:36.775Z"
   },
   {
    "duration": 13,
    "start_time": "2025-10-18T12:11:36.804Z"
   },
   {
    "duration": 28,
    "start_time": "2025-10-18T12:11:36.819Z"
   },
   {
    "duration": 5,
    "start_time": "2025-10-18T12:11:36.850Z"
   },
   {
    "duration": 8,
    "start_time": "2025-10-18T12:11:36.857Z"
   },
   {
    "duration": 8,
    "start_time": "2025-10-18T12:11:36.866Z"
   },
   {
    "duration": 18,
    "start_time": "2025-10-18T12:11:36.876Z"
   },
   {
    "duration": 386,
    "start_time": "2025-10-18T12:11:36.896Z"
   },
   {
    "duration": 16,
    "start_time": "2025-10-18T12:11:37.284Z"
   },
   {
    "duration": 1683,
    "start_time": "2025-10-18T12:11:37.302Z"
   },
   {
    "duration": 20,
    "start_time": "2025-10-18T12:11:38.987Z"
   },
   {
    "duration": 8,
    "start_time": "2025-10-18T12:11:39.008Z"
   },
   {
    "duration": 5,
    "start_time": "2025-10-18T12:11:39.019Z"
   },
   {
    "duration": 38,
    "start_time": "2025-10-18T12:11:39.026Z"
   },
   {
    "duration": 136,
    "start_time": "2025-10-18T12:11:39.066Z"
   },
   {
    "duration": 106,
    "start_time": "2025-10-18T12:11:39.203Z"
   },
   {
    "duration": 120,
    "start_time": "2025-10-18T12:11:39.311Z"
   },
   {
    "duration": 10,
    "start_time": "2025-10-18T12:11:39.433Z"
   },
   {
    "duration": 14,
    "start_time": "2025-10-18T12:11:39.455Z"
   },
   {
    "duration": 363,
    "start_time": "2025-10-18T12:11:39.470Z"
   },
   {
    "duration": 98,
    "start_time": "2025-10-18T12:11:39.835Z"
   },
   {
    "duration": 35,
    "start_time": "2025-10-18T12:11:39.935Z"
   },
   {
    "duration": 28,
    "start_time": "2025-10-18T12:11:39.972Z"
   },
   {
    "duration": 29,
    "start_time": "2025-10-18T12:11:40.001Z"
   },
   {
    "duration": 37,
    "start_time": "2025-10-18T12:11:40.032Z"
   },
   {
    "duration": 5,
    "start_time": "2025-10-18T12:11:40.071Z"
   },
   {
    "duration": 15,
    "start_time": "2025-10-18T12:14:55.838Z"
   },
   {
    "duration": 5,
    "start_time": "2025-10-18T12:15:57.087Z"
   },
   {
    "duration": 14,
    "start_time": "2025-10-18T12:20:25.714Z"
   },
   {
    "duration": 21,
    "start_time": "2025-10-18T12:25:00.217Z"
   },
   {
    "duration": 277,
    "start_time": "2025-10-18T12:33:26.945Z"
   },
   {
    "duration": 258,
    "start_time": "2025-10-18T12:36:45.839Z"
   },
   {
    "duration": 25,
    "start_time": "2025-10-18T12:37:33.395Z"
   },
   {
    "duration": 21,
    "start_time": "2025-10-18T12:38:31.605Z"
   },
   {
    "duration": 1242,
    "start_time": "2025-10-18T12:39:12.476Z"
   },
   {
    "duration": 38,
    "start_time": "2025-10-18T12:39:13.720Z"
   },
   {
    "duration": 11,
    "start_time": "2025-10-18T12:39:13.761Z"
   },
   {
    "duration": 12,
    "start_time": "2025-10-18T12:39:13.774Z"
   },
   {
    "duration": 10,
    "start_time": "2025-10-18T12:39:13.788Z"
   },
   {
    "duration": 8,
    "start_time": "2025-10-18T12:39:13.801Z"
   },
   {
    "duration": 9,
    "start_time": "2025-10-18T12:39:13.811Z"
   },
   {
    "duration": 18,
    "start_time": "2025-10-18T12:39:13.856Z"
   },
   {
    "duration": 380,
    "start_time": "2025-10-18T12:39:13.877Z"
   },
   {
    "duration": 17,
    "start_time": "2025-10-18T12:39:14.261Z"
   },
   {
    "duration": 1760,
    "start_time": "2025-10-18T12:39:14.280Z"
   },
   {
    "duration": 24,
    "start_time": "2025-10-18T12:39:16.042Z"
   },
   {
    "duration": 8,
    "start_time": "2025-10-18T12:39:16.068Z"
   },
   {
    "duration": 21,
    "start_time": "2025-10-18T12:39:16.078Z"
   },
   {
    "duration": 10,
    "start_time": "2025-10-18T12:39:16.101Z"
   },
   {
    "duration": 152,
    "start_time": "2025-10-18T12:39:16.112Z"
   },
   {
    "duration": 113,
    "start_time": "2025-10-18T12:39:16.266Z"
   },
   {
    "duration": 124,
    "start_time": "2025-10-18T12:39:16.380Z"
   },
   {
    "duration": 11,
    "start_time": "2025-10-18T12:39:16.506Z"
   },
   {
    "duration": 13,
    "start_time": "2025-10-18T12:39:16.518Z"
   },
   {
    "duration": 29,
    "start_time": "2025-10-18T12:39:16.533Z"
   },
   {
    "duration": 347,
    "start_time": "2025-10-18T12:39:16.564Z"
   },
   {
    "duration": 286,
    "start_time": "2025-10-18T12:39:16.913Z"
   },
   {
    "duration": 30,
    "start_time": "2025-10-18T12:39:17.201Z"
   },
   {
    "duration": 46,
    "start_time": "2025-10-18T12:39:17.232Z"
   },
   {
    "duration": 35,
    "start_time": "2025-10-18T12:39:17.280Z"
   },
   {
    "duration": 45,
    "start_time": "2025-10-18T12:39:17.317Z"
   },
   {
    "duration": 27,
    "start_time": "2025-10-18T12:39:17.366Z"
   },
   {
    "duration": 4,
    "start_time": "2025-10-18T12:39:17.395Z"
   },
   {
    "duration": 7,
    "start_time": "2025-10-18T12:41:23.804Z"
   },
   {
    "duration": 27,
    "start_time": "2025-10-18T12:44:09.805Z"
   },
   {
    "duration": 31,
    "start_time": "2025-10-18T12:44:31.474Z"
   },
   {
    "duration": 172,
    "start_time": "2025-10-18T12:45:18.004Z"
   },
   {
    "duration": 56,
    "start_time": "2025-10-18T12:45:36.284Z"
   },
   {
    "duration": 30,
    "start_time": "2025-10-18T12:46:40.061Z"
   },
   {
    "duration": 104,
    "start_time": "2025-10-18T12:47:34.198Z"
   },
   {
    "duration": 28,
    "start_time": "2025-10-18T12:47:47.789Z"
   },
   {
    "duration": 28,
    "start_time": "2025-10-18T12:48:39.703Z"
   },
   {
    "duration": 28,
    "start_time": "2025-10-18T12:48:49.434Z"
   },
   {
    "duration": 28,
    "start_time": "2025-10-18T12:49:21.702Z"
   },
   {
    "duration": 26,
    "start_time": "2025-10-18T12:49:55.937Z"
   },
   {
    "duration": 1201,
    "start_time": "2025-10-18T12:51:43.895Z"
   },
   {
    "duration": 27,
    "start_time": "2025-10-18T12:51:45.098Z"
   },
   {
    "duration": 25,
    "start_time": "2025-10-18T12:51:45.127Z"
   },
   {
    "duration": 14,
    "start_time": "2025-10-18T12:51:45.155Z"
   },
   {
    "duration": 7,
    "start_time": "2025-10-18T12:51:45.171Z"
   },
   {
    "duration": 12,
    "start_time": "2025-10-18T12:51:45.180Z"
   },
   {
    "duration": 15,
    "start_time": "2025-10-18T12:51:45.195Z"
   },
   {
    "duration": 19,
    "start_time": "2025-10-18T12:51:45.213Z"
   },
   {
    "duration": 346,
    "start_time": "2025-10-18T12:51:45.257Z"
   },
   {
    "duration": 17,
    "start_time": "2025-10-18T12:51:45.606Z"
   },
   {
    "duration": 1698,
    "start_time": "2025-10-18T12:51:45.625Z"
   },
   {
    "duration": 20,
    "start_time": "2025-10-18T12:51:47.325Z"
   },
   {
    "duration": 9,
    "start_time": "2025-10-18T12:51:47.356Z"
   },
   {
    "duration": 7,
    "start_time": "2025-10-18T12:51:47.366Z"
   },
   {
    "duration": 10,
    "start_time": "2025-10-18T12:51:47.375Z"
   },
   {
    "duration": 169,
    "start_time": "2025-10-18T12:51:47.387Z"
   },
   {
    "duration": 116,
    "start_time": "2025-10-18T12:51:47.558Z"
   },
   {
    "duration": 124,
    "start_time": "2025-10-18T12:51:47.675Z"
   },
   {
    "duration": 11,
    "start_time": "2025-10-18T12:51:47.800Z"
   },
   {
    "duration": 21,
    "start_time": "2025-10-18T12:51:47.813Z"
   },
   {
    "duration": 26,
    "start_time": "2025-10-18T12:51:47.836Z"
   },
   {
    "duration": 383,
    "start_time": "2025-10-18T12:51:47.864Z"
   },
   {
    "duration": 287,
    "start_time": "2025-10-18T12:51:48.249Z"
   },
   {
    "duration": 41,
    "start_time": "2025-10-18T12:51:48.538Z"
   },
   {
    "duration": 31,
    "start_time": "2025-10-18T12:51:48.581Z"
   },
   {
    "duration": 52,
    "start_time": "2025-10-18T12:51:48.614Z"
   },
   {
    "duration": 29,
    "start_time": "2025-10-18T12:51:48.667Z"
   },
   {
    "duration": 16,
    "start_time": "2025-10-18T12:51:48.699Z"
   },
   {
    "duration": 51,
    "start_time": "2025-10-18T12:51:48.717Z"
   },
   {
    "duration": 27,
    "start_time": "2025-10-18T12:51:48.770Z"
   },
   {
    "duration": 31,
    "start_time": "2025-10-18T12:52:56.795Z"
   },
   {
    "duration": 29,
    "start_time": "2025-10-18T12:53:29.960Z"
   },
   {
    "duration": 28,
    "start_time": "2025-10-18T12:54:42.953Z"
   },
   {
    "duration": 1303,
    "start_time": "2025-10-18T13:04:57.184Z"
   },
   {
    "duration": 26,
    "start_time": "2025-10-18T13:04:58.489Z"
   },
   {
    "duration": 13,
    "start_time": "2025-10-18T13:04:58.517Z"
   },
   {
    "duration": 12,
    "start_time": "2025-10-18T13:04:58.532Z"
   },
   {
    "duration": 5,
    "start_time": "2025-10-18T13:04:58.557Z"
   },
   {
    "duration": 12,
    "start_time": "2025-10-18T13:04:58.564Z"
   },
   {
    "duration": 6,
    "start_time": "2025-10-18T13:04:58.578Z"
   },
   {
    "duration": 17,
    "start_time": "2025-10-18T13:04:58.586Z"
   },
   {
    "duration": 378,
    "start_time": "2025-10-18T13:04:58.604Z"
   },
   {
    "duration": 18,
    "start_time": "2025-10-18T13:04:58.983Z"
   },
   {
    "duration": 1735,
    "start_time": "2025-10-18T13:04:59.003Z"
   },
   {
    "duration": 24,
    "start_time": "2025-10-18T13:05:00.739Z"
   },
   {
    "duration": 25,
    "start_time": "2025-10-18T13:05:00.765Z"
   },
   {
    "duration": 10,
    "start_time": "2025-10-18T13:05:00.793Z"
   },
   {
    "duration": 18,
    "start_time": "2025-10-18T13:05:00.805Z"
   },
   {
    "duration": 132,
    "start_time": "2025-10-18T13:05:00.825Z"
   },
   {
    "duration": 111,
    "start_time": "2025-10-18T13:05:00.959Z"
   },
   {
    "duration": 121,
    "start_time": "2025-10-18T13:05:01.072Z"
   },
   {
    "duration": 46,
    "start_time": "2025-10-18T13:05:01.194Z"
   },
   {
    "duration": 26,
    "start_time": "2025-10-18T13:05:01.242Z"
   },
   {
    "duration": 13,
    "start_time": "2025-10-18T13:05:01.270Z"
   },
   {
    "duration": 356,
    "start_time": "2025-10-18T13:05:01.285Z"
   },
   {
    "duration": 296,
    "start_time": "2025-10-18T13:05:01.643Z"
   },
   {
    "duration": 40,
    "start_time": "2025-10-18T13:05:01.941Z"
   },
   {
    "duration": 35,
    "start_time": "2025-10-18T13:05:01.982Z"
   },
   {
    "duration": 55,
    "start_time": "2025-10-18T13:05:02.019Z"
   },
   {
    "duration": 29,
    "start_time": "2025-10-18T13:05:02.076Z"
   },
   {
    "duration": 48,
    "start_time": "2025-10-18T13:05:02.106Z"
   },
   {
    "duration": 36,
    "start_time": "2025-10-18T13:05:02.156Z"
   },
   {
    "duration": 69,
    "start_time": "2025-10-18T13:05:02.194Z"
   },
   {
    "duration": 11,
    "start_time": "2025-10-18T13:09:55.178Z"
   },
   {
    "duration": 10,
    "start_time": "2025-10-18T13:11:31.302Z"
   },
   {
    "duration": 11,
    "start_time": "2025-10-18T13:11:46.478Z"
   },
   {
    "duration": 11,
    "start_time": "2025-10-18T13:12:06.691Z"
   },
   {
    "duration": 8,
    "start_time": "2025-10-18T13:20:42.108Z"
   },
   {
    "duration": 120,
    "start_time": "2025-10-18T13:22:47.260Z"
   },
   {
    "duration": 16,
    "start_time": "2025-10-18T13:23:21.310Z"
   },
   {
    "duration": 9,
    "start_time": "2025-10-18T13:23:42.783Z"
   },
   {
    "duration": 9,
    "start_time": "2025-10-18T13:24:01.288Z"
   },
   {
    "duration": 9,
    "start_time": "2025-10-18T13:24:43.861Z"
   },
   {
    "duration": 1327,
    "start_time": "2025-10-18T13:37:37.653Z"
   },
   {
    "duration": 26,
    "start_time": "2025-10-18T13:37:38.982Z"
   },
   {
    "duration": 15,
    "start_time": "2025-10-18T13:37:39.009Z"
   },
   {
    "duration": 12,
    "start_time": "2025-10-18T13:37:39.026Z"
   },
   {
    "duration": 19,
    "start_time": "2025-10-18T13:37:39.040Z"
   },
   {
    "duration": 10,
    "start_time": "2025-10-18T13:37:39.061Z"
   },
   {
    "duration": 6,
    "start_time": "2025-10-18T13:37:39.073Z"
   },
   {
    "duration": 16,
    "start_time": "2025-10-18T13:37:39.081Z"
   },
   {
    "duration": 387,
    "start_time": "2025-10-18T13:37:39.099Z"
   },
   {
    "duration": 16,
    "start_time": "2025-10-18T13:37:39.489Z"
   },
   {
    "duration": 1593,
    "start_time": "2025-10-18T13:37:39.506Z"
   },
   {
    "duration": 18,
    "start_time": "2025-10-18T13:37:41.101Z"
   },
   {
    "duration": 11,
    "start_time": "2025-10-18T13:37:41.120Z"
   },
   {
    "duration": 26,
    "start_time": "2025-10-18T13:37:41.133Z"
   },
   {
    "duration": 10,
    "start_time": "2025-10-18T13:37:41.160Z"
   },
   {
    "duration": 141,
    "start_time": "2025-10-18T13:37:41.172Z"
   },
   {
    "duration": 100,
    "start_time": "2025-10-18T13:37:41.315Z"
   },
   {
    "duration": 123,
    "start_time": "2025-10-18T13:37:41.417Z"
   },
   {
    "duration": 20,
    "start_time": "2025-10-18T13:37:41.542Z"
   },
   {
    "duration": 62,
    "start_time": "2025-10-18T13:37:41.564Z"
   },
   {
    "duration": 12,
    "start_time": "2025-10-18T13:37:41.628Z"
   },
   {
    "duration": 315,
    "start_time": "2025-10-18T13:37:41.642Z"
   },
   {
    "duration": 287,
    "start_time": "2025-10-18T13:37:41.958Z"
   },
   {
    "duration": 42,
    "start_time": "2025-10-18T13:37:42.248Z"
   },
   {
    "duration": 31,
    "start_time": "2025-10-18T13:37:42.292Z"
   },
   {
    "duration": 54,
    "start_time": "2025-10-18T13:37:42.325Z"
   },
   {
    "duration": 28,
    "start_time": "2025-10-18T13:37:42.381Z"
   },
   {
    "duration": 15,
    "start_time": "2025-10-18T13:37:42.413Z"
   },
   {
    "duration": 52,
    "start_time": "2025-10-18T13:37:42.430Z"
   },
   {
    "duration": 28,
    "start_time": "2025-10-18T13:37:42.483Z"
   },
   {
    "duration": 12,
    "start_time": "2025-10-18T13:37:42.513Z"
   },
   {
    "duration": 36,
    "start_time": "2025-10-18T13:37:42.527Z"
   },
   {
    "duration": 9,
    "start_time": "2025-10-18T13:57:41.046Z"
   },
   {
    "duration": 14,
    "start_time": "2025-10-18T13:57:43.425Z"
   },
   {
    "duration": 10,
    "start_time": "2025-10-18T13:59:37.679Z"
   },
   {
    "duration": 128,
    "start_time": "2025-10-18T13:59:39.999Z"
   },
   {
    "duration": 128,
    "start_time": "2025-10-18T13:59:45.475Z"
   },
   {
    "duration": 281,
    "start_time": "2025-10-18T14:02:25.694Z"
   },
   {
    "duration": 1263,
    "start_time": "2025-10-18T14:02:34.980Z"
   },
   {
    "duration": 26,
    "start_time": "2025-10-18T14:02:36.245Z"
   },
   {
    "duration": 12,
    "start_time": "2025-10-18T14:02:36.273Z"
   },
   {
    "duration": 12,
    "start_time": "2025-10-18T14:02:36.287Z"
   },
   {
    "duration": 5,
    "start_time": "2025-10-18T14:02:36.302Z"
   },
   {
    "duration": 8,
    "start_time": "2025-10-18T14:02:36.309Z"
   },
   {
    "duration": 40,
    "start_time": "2025-10-18T14:02:36.319Z"
   },
   {
    "duration": 18,
    "start_time": "2025-10-18T14:02:36.361Z"
   },
   {
    "duration": 388,
    "start_time": "2025-10-18T14:02:36.381Z"
   },
   {
    "duration": 17,
    "start_time": "2025-10-18T14:02:36.771Z"
   },
   {
    "duration": 1680,
    "start_time": "2025-10-18T14:02:36.790Z"
   },
   {
    "duration": 15,
    "start_time": "2025-10-18T14:02:38.471Z"
   },
   {
    "duration": 8,
    "start_time": "2025-10-18T14:02:38.488Z"
   },
   {
    "duration": 7,
    "start_time": "2025-10-18T14:02:38.500Z"
   },
   {
    "duration": 5,
    "start_time": "2025-10-18T14:02:38.509Z"
   },
   {
    "duration": 47,
    "start_time": "2025-10-18T14:02:38.515Z"
   },
   {
    "duration": 136,
    "start_time": "2025-10-18T14:02:38.563Z"
   },
   {
    "duration": 10,
    "start_time": "2025-10-18T14:02:38.701Z"
   },
   {
    "duration": 113,
    "start_time": "2025-10-18T14:02:38.713Z"
   },
   {
    "duration": 127,
    "start_time": "2025-10-18T14:02:38.829Z"
   },
   {
    "duration": 11,
    "start_time": "2025-10-18T14:02:38.958Z"
   },
   {
    "duration": 18,
    "start_time": "2025-10-18T14:02:38.971Z"
   },
   {
    "duration": 12,
    "start_time": "2025-10-18T14:02:38.991Z"
   },
   {
    "duration": 339,
    "start_time": "2025-10-18T14:02:39.005Z"
   },
   {
    "duration": 280,
    "start_time": "2025-10-18T14:02:39.345Z"
   },
   {
    "duration": 46,
    "start_time": "2025-10-18T14:02:39.627Z"
   },
   {
    "duration": 32,
    "start_time": "2025-10-18T14:02:39.675Z"
   },
   {
    "duration": 50,
    "start_time": "2025-10-18T14:02:39.709Z"
   },
   {
    "duration": 28,
    "start_time": "2025-10-18T14:02:39.761Z"
   },
   {
    "duration": 52,
    "start_time": "2025-10-18T14:02:39.791Z"
   },
   {
    "duration": 29,
    "start_time": "2025-10-18T14:02:39.845Z"
   },
   {
    "duration": 30,
    "start_time": "2025-10-18T14:02:39.876Z"
   },
   {
    "duration": 11,
    "start_time": "2025-10-18T14:02:39.908Z"
   },
   {
    "duration": 53,
    "start_time": "2025-10-18T14:02:39.921Z"
   },
   {
    "duration": 1294,
    "start_time": "2025-10-18T14:15:28.193Z"
   },
   {
    "duration": 26,
    "start_time": "2025-10-18T14:15:29.489Z"
   },
   {
    "duration": 15,
    "start_time": "2025-10-18T14:15:29.516Z"
   },
   {
    "duration": 12,
    "start_time": "2025-10-18T14:15:29.534Z"
   },
   {
    "duration": 5,
    "start_time": "2025-10-18T14:15:29.556Z"
   },
   {
    "duration": 7,
    "start_time": "2025-10-18T14:15:29.563Z"
   },
   {
    "duration": 7,
    "start_time": "2025-10-18T14:15:29.572Z"
   },
   {
    "duration": 17,
    "start_time": "2025-10-18T14:15:29.581Z"
   },
   {
    "duration": 383,
    "start_time": "2025-10-18T14:15:29.600Z"
   },
   {
    "duration": 17,
    "start_time": "2025-10-18T14:15:29.986Z"
   },
   {
    "duration": 1794,
    "start_time": "2025-10-18T14:15:30.005Z"
   },
   {
    "duration": 16,
    "start_time": "2025-10-18T14:15:31.801Z"
   },
   {
    "duration": 59,
    "start_time": "2025-10-18T14:15:31.819Z"
   },
   {
    "duration": 10,
    "start_time": "2025-10-18T14:15:31.880Z"
   },
   {
    "duration": 5,
    "start_time": "2025-10-18T14:15:31.893Z"
   },
   {
    "duration": 19,
    "start_time": "2025-10-18T14:15:31.900Z"
   },
   {
    "duration": 126,
    "start_time": "2025-10-18T14:15:31.921Z"
   },
   {
    "duration": 14,
    "start_time": "2025-10-18T14:15:32.049Z"
   },
   {
    "duration": 111,
    "start_time": "2025-10-18T14:15:32.065Z"
   },
   {
    "duration": 118,
    "start_time": "2025-10-18T14:15:32.178Z"
   },
   {
    "duration": 10,
    "start_time": "2025-10-18T14:15:32.298Z"
   },
   {
    "duration": 12,
    "start_time": "2025-10-18T14:15:32.310Z"
   },
   {
    "duration": 38,
    "start_time": "2025-10-18T14:15:32.324Z"
   },
   {
    "duration": 332,
    "start_time": "2025-10-18T14:15:32.363Z"
   },
   {
    "duration": 273,
    "start_time": "2025-10-18T14:15:32.697Z"
   },
   {
    "duration": 35,
    "start_time": "2025-10-18T14:15:32.972Z"
   },
   {
    "duration": 49,
    "start_time": "2025-10-18T14:15:33.008Z"
   },
   {
    "duration": 35,
    "start_time": "2025-10-18T14:15:33.060Z"
   },
   {
    "duration": 29,
    "start_time": "2025-10-18T14:15:33.097Z"
   },
   {
    "duration": 37,
    "start_time": "2025-10-18T14:15:33.128Z"
   },
   {
    "duration": 27,
    "start_time": "2025-10-18T14:15:33.167Z"
   },
   {
    "duration": 29,
    "start_time": "2025-10-18T14:15:33.196Z"
   },
   {
    "duration": 33,
    "start_time": "2025-10-18T14:15:33.227Z"
   },
   {
    "duration": 1285,
    "start_time": "2025-10-18T14:23:06.528Z"
   },
   {
    "duration": 26,
    "start_time": "2025-10-18T14:23:07.815Z"
   },
   {
    "duration": 50,
    "start_time": "2025-10-18T14:23:07.843Z"
   },
   {
    "duration": 13,
    "start_time": "2025-10-18T14:23:07.894Z"
   },
   {
    "duration": 6,
    "start_time": "2025-10-18T14:23:07.909Z"
   },
   {
    "duration": 10,
    "start_time": "2025-10-18T14:23:07.916Z"
   },
   {
    "duration": 7,
    "start_time": "2025-10-18T14:23:07.928Z"
   },
   {
    "duration": 25,
    "start_time": "2025-10-18T14:23:07.937Z"
   },
   {
    "duration": 343,
    "start_time": "2025-10-18T14:23:07.964Z"
   },
   {
    "duration": 17,
    "start_time": "2025-10-18T14:23:08.309Z"
   },
   {
    "duration": 1690,
    "start_time": "2025-10-18T14:23:08.328Z"
   },
   {
    "duration": 14,
    "start_time": "2025-10-18T14:23:10.020Z"
   },
   {
    "duration": 47,
    "start_time": "2025-10-18T14:23:10.036Z"
   },
   {
    "duration": 9,
    "start_time": "2025-10-18T14:23:10.086Z"
   },
   {
    "duration": 5,
    "start_time": "2025-10-18T14:23:10.097Z"
   },
   {
    "duration": 11,
    "start_time": "2025-10-18T14:23:10.104Z"
   },
   {
    "duration": 134,
    "start_time": "2025-10-18T14:23:10.117Z"
   },
   {
    "duration": 10,
    "start_time": "2025-10-18T14:23:10.256Z"
   },
   {
    "duration": 113,
    "start_time": "2025-10-18T14:23:10.268Z"
   },
   {
    "duration": 122,
    "start_time": "2025-10-18T14:23:10.383Z"
   },
   {
    "duration": 13,
    "start_time": "2025-10-18T14:23:10.508Z"
   },
   {
    "duration": 34,
    "start_time": "2025-10-18T14:23:10.523Z"
   },
   {
    "duration": 13,
    "start_time": "2025-10-18T14:23:10.559Z"
   },
   {
    "duration": 394,
    "start_time": "2025-10-18T14:23:10.574Z"
   },
   {
    "duration": 280,
    "start_time": "2025-10-18T14:23:10.970Z"
   },
   {
    "duration": 34,
    "start_time": "2025-10-18T14:23:11.252Z"
   },
   {
    "duration": 32,
    "start_time": "2025-10-18T14:23:11.288Z"
   },
   {
    "duration": 60,
    "start_time": "2025-10-18T14:23:11.323Z"
   },
   {
    "duration": 30,
    "start_time": "2025-10-18T14:23:11.385Z"
   },
   {
    "duration": 47,
    "start_time": "2025-10-18T14:23:11.418Z"
   },
   {
    "duration": 29,
    "start_time": "2025-10-18T14:23:11.467Z"
   },
   {
    "duration": 30,
    "start_time": "2025-10-18T14:23:11.498Z"
   },
   {
    "duration": 35,
    "start_time": "2025-10-18T14:23:11.530Z"
   }
  ],
  "colab": {
   "provenance": [],
   "toc_visible": true
  },
  "kernelspec": {
   "display_name": "Python 3 (ipykernel)",
   "language": "python",
   "name": "python3"
  },
  "language_info": {
   "codemirror_mode": {
    "name": "ipython",
    "version": 3
   },
   "file_extension": ".py",
   "mimetype": "text/x-python",
   "name": "python",
   "nbconvert_exporter": "python",
   "pygments_lexer": "ipython3",
   "version": "3.9.5"
  },
  "toc": {
   "base_numbering": 1,
   "nav_menu": {},
   "number_sections": true,
   "sideBar": true,
   "skip_h1_title": true,
   "title_cell": "Table of Contents",
   "title_sidebar": "Contents",
   "toc_cell": false,
   "toc_position": {},
   "toc_section_display": true,
   "toc_window_display": false
  }
 },
 "nbformat": 4,
 "nbformat_minor": 5
}
